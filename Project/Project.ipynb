{
 "cells": [
  {
   "cell_type": "markdown",
   "metadata": {},
   "source": [
    "TDS3301 - Data Mining"
   ]
  },
  {
   "cell_type": "markdown",
   "metadata": {},
   "source": [
    "Group Member:\n",
    "\n",
    "Ong Shuoh Chwen (1171102212)\n",
    "\n",
    "Yong Wen Kai (1171101664)"
   ]
  },
  {
   "cell_type": "markdown",
   "metadata": {},
   "source": [
    "### QUESTION 3: Intelligent Decision-Making for Loan Application"
   ]
  },
  {
   "cell_type": "code",
   "execution_count": 1,
   "metadata": {},
   "outputs": [],
   "source": [
    "import pandas as pd\n",
    "import numpy as np\n",
    "import matplotlib.pyplot as plt\n",
    "import altair as alt\n",
    "import missingno as msno\n",
    "import seaborn as sns\n",
    "import imblearn\n",
    "from collections import defaultdict\n",
    "from sklearn.preprocessing import LabelEncoder\n",
    "from sklearn.ensemble import RandomForestClassifier\n",
    "from sklearn.preprocessing import MinMaxScaler\n",
    "from boruta import BorutaPy\n",
    "from sklearn.feature_selection import RFECV\n",
    "from sklearn.model_selection import train_test_split\n",
    "from sklearn import svm\n",
    "from sklearn import metrics\n",
    "from mlxtend.frequent_patterns import apriori\n",
    "from mlxtend.frequent_patterns import association_rules\n",
    "from sklearn.neighbors import KNeighborsClassifier\n",
    "from kmodes.kmodes import KModes\n",
    "from sklearn.naive_bayes import GaussianNB\n",
    "from sklearn.tree import DecisionTreeClassifier\n",
    "from sklearn.datasets import make_classification\n",
    "from imblearn.datasets import make_imbalance\n",
    "from imblearn.over_sampling import SMOTE\n",
    "from IPython.display import Image "
   ]
  },
  {
   "cell_type": "markdown",
   "metadata": {},
   "source": [
    "#### Exploratory Data Analysis and Data Pre-Processing"
   ]
  },
  {
   "cell_type": "markdown",
   "metadata": {},
   "source": [
    "First and foremost, we will need to import the `Bank_CS.csv` into the project."
   ]
  },
  {
   "cell_type": "code",
   "execution_count": 2,
   "metadata": {},
   "outputs": [
    {
     "data": {
      "text/html": [
       "<div>\n",
       "<style scoped>\n",
       "    .dataframe tbody tr th:only-of-type {\n",
       "        vertical-align: middle;\n",
       "    }\n",
       "\n",
       "    .dataframe tbody tr th {\n",
       "        vertical-align: top;\n",
       "    }\n",
       "\n",
       "    .dataframe thead th {\n",
       "        text-align: right;\n",
       "    }\n",
       "</style>\n",
       "<table border=\"1\" class=\"dataframe\">\n",
       "  <thead>\n",
       "    <tr style=\"text-align: right;\">\n",
       "      <th></th>\n",
       "      <th>Credit_Card_Exceed_Months</th>\n",
       "      <th>Employment_Type</th>\n",
       "      <th>Loan_Amount</th>\n",
       "      <th>Loan_Tenure_Year</th>\n",
       "      <th>More_Than_One_Products</th>\n",
       "      <th>Credit_Card_types</th>\n",
       "      <th>Number_of_Dependents</th>\n",
       "      <th>Years_to_Financial_Freedom</th>\n",
       "      <th>Number_of_Credit_Card_Facility</th>\n",
       "      <th>Number_of_Properties</th>\n",
       "      <th>...</th>\n",
       "      <th>Number_of_Loan_to_Approve</th>\n",
       "      <th>Property_Type</th>\n",
       "      <th>Years_for_Property_to_Completion</th>\n",
       "      <th>State</th>\n",
       "      <th>Number_of_Side_Income</th>\n",
       "      <th>Monthly_Salary</th>\n",
       "      <th>Total_Sum_of_Loan</th>\n",
       "      <th>Total_Income_for_Join_Application</th>\n",
       "      <th>Decision</th>\n",
       "      <th>Score</th>\n",
       "    </tr>\n",
       "  </thead>\n",
       "  <tbody>\n",
       "    <tr>\n",
       "      <th>0</th>\n",
       "      <td>1</td>\n",
       "      <td>employer</td>\n",
       "      <td>NaN</td>\n",
       "      <td>16.0</td>\n",
       "      <td>yes</td>\n",
       "      <td>platinum</td>\n",
       "      <td>2.0</td>\n",
       "      <td>5.0</td>\n",
       "      <td>2.0</td>\n",
       "      <td>2.0</td>\n",
       "      <td>...</td>\n",
       "      <td>1</td>\n",
       "      <td>condominium</td>\n",
       "      <td>10.0</td>\n",
       "      <td>Johor</td>\n",
       "      <td>2.0</td>\n",
       "      <td>12262.0</td>\n",
       "      <td>853141.0</td>\n",
       "      <td>16025.0</td>\n",
       "      <td>Reject</td>\n",
       "      <td>7</td>\n",
       "    </tr>\n",
       "    <tr>\n",
       "      <th>1</th>\n",
       "      <td>1</td>\n",
       "      <td>employer</td>\n",
       "      <td>605505.0</td>\n",
       "      <td>19.0</td>\n",
       "      <td>no</td>\n",
       "      <td>normal</td>\n",
       "      <td>2.0</td>\n",
       "      <td>NaN</td>\n",
       "      <td>2.0</td>\n",
       "      <td>2.0</td>\n",
       "      <td>...</td>\n",
       "      <td>2</td>\n",
       "      <td>NaN</td>\n",
       "      <td>10.0</td>\n",
       "      <td>Johor</td>\n",
       "      <td>2.0</td>\n",
       "      <td>9251.0</td>\n",
       "      <td>882901.0</td>\n",
       "      <td>17082.0</td>\n",
       "      <td>Accept</td>\n",
       "      <td>9</td>\n",
       "    </tr>\n",
       "    <tr>\n",
       "      <th>2</th>\n",
       "      <td>1</td>\n",
       "      <td>employer</td>\n",
       "      <td>NaN</td>\n",
       "      <td>NaN</td>\n",
       "      <td>yes</td>\n",
       "      <td>normal</td>\n",
       "      <td>2.0</td>\n",
       "      <td>5.0</td>\n",
       "      <td>2.0</td>\n",
       "      <td>2.0</td>\n",
       "      <td>...</td>\n",
       "      <td>3</td>\n",
       "      <td>condominium</td>\n",
       "      <td>10.0</td>\n",
       "      <td>Johor</td>\n",
       "      <td>NaN</td>\n",
       "      <td>4919.0</td>\n",
       "      <td>540489.0</td>\n",
       "      <td>12613.0</td>\n",
       "      <td>Reject</td>\n",
       "      <td>8</td>\n",
       "    </tr>\n",
       "    <tr>\n",
       "      <th>3</th>\n",
       "      <td>1</td>\n",
       "      <td>employer</td>\n",
       "      <td>490216.0</td>\n",
       "      <td>NaN</td>\n",
       "      <td>no</td>\n",
       "      <td>normal</td>\n",
       "      <td>2.0</td>\n",
       "      <td>5.0</td>\n",
       "      <td>NaN</td>\n",
       "      <td>2.0</td>\n",
       "      <td>...</td>\n",
       "      <td>1</td>\n",
       "      <td>condominium</td>\n",
       "      <td>10.0</td>\n",
       "      <td>Johor</td>\n",
       "      <td>NaN</td>\n",
       "      <td>4459.0</td>\n",
       "      <td>536727.0</td>\n",
       "      <td>10952.0</td>\n",
       "      <td>Accept</td>\n",
       "      <td>9</td>\n",
       "    </tr>\n",
       "    <tr>\n",
       "      <th>4</th>\n",
       "      <td>1</td>\n",
       "      <td>employer</td>\n",
       "      <td>292728.0</td>\n",
       "      <td>14.0</td>\n",
       "      <td>yes</td>\n",
       "      <td>normal</td>\n",
       "      <td>2.0</td>\n",
       "      <td>5.0</td>\n",
       "      <td>2.0</td>\n",
       "      <td>2.0</td>\n",
       "      <td>...</td>\n",
       "      <td>2</td>\n",
       "      <td>condominium</td>\n",
       "      <td>10.0</td>\n",
       "      <td>Johor</td>\n",
       "      <td>3.0</td>\n",
       "      <td>5628.0</td>\n",
       "      <td>774695.0</td>\n",
       "      <td>NaN</td>\n",
       "      <td>Reject</td>\n",
       "      <td>8</td>\n",
       "    </tr>\n",
       "  </tbody>\n",
       "</table>\n",
       "<p>5 rows × 21 columns</p>\n",
       "</div>"
      ],
      "text/plain": [
       "   Credit_Card_Exceed_Months Employment_Type  Loan_Amount  Loan_Tenure_Year  \\\n",
       "0                          1        employer          NaN              16.0   \n",
       "1                          1        employer     605505.0              19.0   \n",
       "2                          1        employer          NaN               NaN   \n",
       "3                          1        employer     490216.0               NaN   \n",
       "4                          1        employer     292728.0              14.0   \n",
       "\n",
       "  More_Than_One_Products Credit_Card_types  Number_of_Dependents  \\\n",
       "0                    yes          platinum                   2.0   \n",
       "1                     no            normal                   2.0   \n",
       "2                    yes            normal                   2.0   \n",
       "3                     no            normal                   2.0   \n",
       "4                    yes            normal                   2.0   \n",
       "\n",
       "   Years_to_Financial_Freedom  Number_of_Credit_Card_Facility  \\\n",
       "0                         5.0                             2.0   \n",
       "1                         NaN                             2.0   \n",
       "2                         5.0                             2.0   \n",
       "3                         5.0                             NaN   \n",
       "4                         5.0                             2.0   \n",
       "\n",
       "   Number_of_Properties  ...  Number_of_Loan_to_Approve  Property_Type  \\\n",
       "0                   2.0  ...                          1    condominium   \n",
       "1                   2.0  ...                          2            NaN   \n",
       "2                   2.0  ...                          3    condominium   \n",
       "3                   2.0  ...                          1    condominium   \n",
       "4                   2.0  ...                          2    condominium   \n",
       "\n",
       "  Years_for_Property_to_Completion  State Number_of_Side_Income  \\\n",
       "0                             10.0  Johor                   2.0   \n",
       "1                             10.0  Johor                   2.0   \n",
       "2                             10.0  Johor                   NaN   \n",
       "3                             10.0  Johor                   NaN   \n",
       "4                             10.0  Johor                   3.0   \n",
       "\n",
       "   Monthly_Salary  Total_Sum_of_Loan  Total_Income_for_Join_Application  \\\n",
       "0         12262.0           853141.0                            16025.0   \n",
       "1          9251.0           882901.0                            17082.0   \n",
       "2          4919.0           540489.0                            12613.0   \n",
       "3          4459.0           536727.0                            10952.0   \n",
       "4          5628.0           774695.0                                NaN   \n",
       "\n",
       "   Decision Score  \n",
       "0    Reject     7  \n",
       "1    Accept     9  \n",
       "2    Reject     8  \n",
       "3    Accept     9  \n",
       "4    Reject     8  \n",
       "\n",
       "[5 rows x 21 columns]"
      ]
     },
     "execution_count": 2,
     "metadata": {},
     "output_type": "execute_result"
    }
   ],
   "source": [
    "df = pd.read_csv(\"Bank_CS.csv\")\n",
    "df.head()"
   ]
  },
  {
   "cell_type": "markdown",
   "metadata": {},
   "source": [
    "##### Step 1: Dealing with missing values."
   ]
  },
  {
   "cell_type": "code",
   "execution_count": 3,
   "metadata": {},
   "outputs": [
    {
     "data": {
      "text/html": [
       "<div>\n",
       "<style scoped>\n",
       "    .dataframe tbody tr th:only-of-type {\n",
       "        vertical-align: middle;\n",
       "    }\n",
       "\n",
       "    .dataframe tbody tr th {\n",
       "        vertical-align: top;\n",
       "    }\n",
       "\n",
       "    .dataframe thead th {\n",
       "        text-align: right;\n",
       "    }\n",
       "</style>\n",
       "<table border=\"1\" class=\"dataframe\">\n",
       "  <thead>\n",
       "    <tr style=\"text-align: right;\">\n",
       "      <th></th>\n",
       "      <th>Credit_Card_Exceed_Months</th>\n",
       "      <th>Employment_Type</th>\n",
       "      <th>Loan_Amount</th>\n",
       "      <th>Loan_Tenure_Year</th>\n",
       "      <th>More_Than_One_Products</th>\n",
       "      <th>Credit_Card_types</th>\n",
       "      <th>Number_of_Dependents</th>\n",
       "      <th>Years_to_Financial_Freedom</th>\n",
       "      <th>Number_of_Credit_Card_Facility</th>\n",
       "      <th>Number_of_Properties</th>\n",
       "      <th>...</th>\n",
       "      <th>Number_of_Loan_to_Approve</th>\n",
       "      <th>Property_Type</th>\n",
       "      <th>Years_for_Property_to_Completion</th>\n",
       "      <th>State</th>\n",
       "      <th>Number_of_Side_Income</th>\n",
       "      <th>Monthly_Salary</th>\n",
       "      <th>Total_Sum_of_Loan</th>\n",
       "      <th>Total_Income_for_Join_Application</th>\n",
       "      <th>Decision</th>\n",
       "      <th>Score</th>\n",
       "    </tr>\n",
       "  </thead>\n",
       "  <tbody>\n",
       "    <tr>\n",
       "      <th>0</th>\n",
       "      <td>1</td>\n",
       "      <td>employer</td>\n",
       "      <td>NaN</td>\n",
       "      <td>16.0</td>\n",
       "      <td>yes</td>\n",
       "      <td>platinum</td>\n",
       "      <td>2.0</td>\n",
       "      <td>5.0</td>\n",
       "      <td>2.0</td>\n",
       "      <td>2.0</td>\n",
       "      <td>...</td>\n",
       "      <td>1</td>\n",
       "      <td>condominium</td>\n",
       "      <td>10.0</td>\n",
       "      <td>Johor</td>\n",
       "      <td>2.0</td>\n",
       "      <td>12262.0</td>\n",
       "      <td>853141.0</td>\n",
       "      <td>16025.0</td>\n",
       "      <td>Reject</td>\n",
       "      <td>7</td>\n",
       "    </tr>\n",
       "    <tr>\n",
       "      <th>1</th>\n",
       "      <td>1</td>\n",
       "      <td>employer</td>\n",
       "      <td>605505.0</td>\n",
       "      <td>19.0</td>\n",
       "      <td>no</td>\n",
       "      <td>normal</td>\n",
       "      <td>2.0</td>\n",
       "      <td>NaN</td>\n",
       "      <td>2.0</td>\n",
       "      <td>2.0</td>\n",
       "      <td>...</td>\n",
       "      <td>2</td>\n",
       "      <td>NaN</td>\n",
       "      <td>10.0</td>\n",
       "      <td>Johor</td>\n",
       "      <td>2.0</td>\n",
       "      <td>9251.0</td>\n",
       "      <td>882901.0</td>\n",
       "      <td>17082.0</td>\n",
       "      <td>Accept</td>\n",
       "      <td>9</td>\n",
       "    </tr>\n",
       "    <tr>\n",
       "      <th>2</th>\n",
       "      <td>1</td>\n",
       "      <td>employer</td>\n",
       "      <td>NaN</td>\n",
       "      <td>NaN</td>\n",
       "      <td>yes</td>\n",
       "      <td>normal</td>\n",
       "      <td>2.0</td>\n",
       "      <td>5.0</td>\n",
       "      <td>2.0</td>\n",
       "      <td>2.0</td>\n",
       "      <td>...</td>\n",
       "      <td>3</td>\n",
       "      <td>condominium</td>\n",
       "      <td>10.0</td>\n",
       "      <td>Johor</td>\n",
       "      <td>NaN</td>\n",
       "      <td>4919.0</td>\n",
       "      <td>540489.0</td>\n",
       "      <td>12613.0</td>\n",
       "      <td>Reject</td>\n",
       "      <td>8</td>\n",
       "    </tr>\n",
       "    <tr>\n",
       "      <th>3</th>\n",
       "      <td>1</td>\n",
       "      <td>employer</td>\n",
       "      <td>490216.0</td>\n",
       "      <td>NaN</td>\n",
       "      <td>no</td>\n",
       "      <td>normal</td>\n",
       "      <td>2.0</td>\n",
       "      <td>5.0</td>\n",
       "      <td>NaN</td>\n",
       "      <td>2.0</td>\n",
       "      <td>...</td>\n",
       "      <td>1</td>\n",
       "      <td>condominium</td>\n",
       "      <td>10.0</td>\n",
       "      <td>Johor</td>\n",
       "      <td>NaN</td>\n",
       "      <td>4459.0</td>\n",
       "      <td>536727.0</td>\n",
       "      <td>10952.0</td>\n",
       "      <td>Accept</td>\n",
       "      <td>9</td>\n",
       "    </tr>\n",
       "    <tr>\n",
       "      <th>4</th>\n",
       "      <td>1</td>\n",
       "      <td>employer</td>\n",
       "      <td>292728.0</td>\n",
       "      <td>14.0</td>\n",
       "      <td>yes</td>\n",
       "      <td>normal</td>\n",
       "      <td>2.0</td>\n",
       "      <td>5.0</td>\n",
       "      <td>2.0</td>\n",
       "      <td>2.0</td>\n",
       "      <td>...</td>\n",
       "      <td>2</td>\n",
       "      <td>condominium</td>\n",
       "      <td>10.0</td>\n",
       "      <td>Johor</td>\n",
       "      <td>3.0</td>\n",
       "      <td>5628.0</td>\n",
       "      <td>774695.0</td>\n",
       "      <td>NaN</td>\n",
       "      <td>Reject</td>\n",
       "      <td>8</td>\n",
       "    </tr>\n",
       "  </tbody>\n",
       "</table>\n",
       "<p>5 rows × 21 columns</p>\n",
       "</div>"
      ],
      "text/plain": [
       "   Credit_Card_Exceed_Months Employment_Type  Loan_Amount  Loan_Tenure_Year  \\\n",
       "0                          1        employer          NaN              16.0   \n",
       "1                          1        employer     605505.0              19.0   \n",
       "2                          1        employer          NaN               NaN   \n",
       "3                          1        employer     490216.0               NaN   \n",
       "4                          1        employer     292728.0              14.0   \n",
       "\n",
       "  More_Than_One_Products Credit_Card_types  Number_of_Dependents  \\\n",
       "0                    yes          platinum                   2.0   \n",
       "1                     no            normal                   2.0   \n",
       "2                    yes            normal                   2.0   \n",
       "3                     no            normal                   2.0   \n",
       "4                    yes            normal                   2.0   \n",
       "\n",
       "   Years_to_Financial_Freedom  Number_of_Credit_Card_Facility  \\\n",
       "0                         5.0                             2.0   \n",
       "1                         NaN                             2.0   \n",
       "2                         5.0                             2.0   \n",
       "3                         5.0                             NaN   \n",
       "4                         5.0                             2.0   \n",
       "\n",
       "   Number_of_Properties  ...  Number_of_Loan_to_Approve  Property_Type  \\\n",
       "0                   2.0  ...                          1    condominium   \n",
       "1                   2.0  ...                          2            NaN   \n",
       "2                   2.0  ...                          3    condominium   \n",
       "3                   2.0  ...                          1    condominium   \n",
       "4                   2.0  ...                          2    condominium   \n",
       "\n",
       "  Years_for_Property_to_Completion  State Number_of_Side_Income  \\\n",
       "0                             10.0  Johor                   2.0   \n",
       "1                             10.0  Johor                   2.0   \n",
       "2                             10.0  Johor                   NaN   \n",
       "3                             10.0  Johor                   NaN   \n",
       "4                             10.0  Johor                   3.0   \n",
       "\n",
       "   Monthly_Salary  Total_Sum_of_Loan  Total_Income_for_Join_Application  \\\n",
       "0         12262.0           853141.0                            16025.0   \n",
       "1          9251.0           882901.0                            17082.0   \n",
       "2          4919.0           540489.0                            12613.0   \n",
       "3          4459.0           536727.0                            10952.0   \n",
       "4          5628.0           774695.0                                NaN   \n",
       "\n",
       "   Decision Score  \n",
       "0    Reject     7  \n",
       "1    Accept     9  \n",
       "2    Reject     8  \n",
       "3    Accept     9  \n",
       "4    Reject     8  \n",
       "\n",
       "[5 rows x 21 columns]"
      ]
     },
     "execution_count": 3,
     "metadata": {},
     "output_type": "execute_result"
    }
   ],
   "source": [
    "# Duplicate the dataframe first\n",
    "df1 = df.copy()\n",
    "#drop column ...\n",
    "df1.head()"
   ]
  },
  {
   "cell_type": "code",
   "execution_count": 4,
   "metadata": {},
   "outputs": [
    {
     "data": {
      "image/png": "[encoded data removed]",
      "text/plain": [
       "<Figure size 1728x720 with 3 Axes>"
      ]
     },
     "metadata": {
      "needs_background": "light"
     },
     "output_type": "display_data"
    }
   ],
   "source": [
    "# Check missing values\n",
    "df1.isnull().sum()\n",
    "msno.bar(df1)\n",
    "plt.savefig('missing_val')"
   ]
  },
  {
   "cell_type": "markdown",
   "metadata": {},
   "source": [
    "The bar chart above shows that not all values are the same, so in order to proceed, we will need to fill those missing values with mode\n",
    "`(the highest value among all other values)`."
   ]
  },
  {
   "cell_type": "code",
   "execution_count": 5,
   "metadata": {},
   "outputs": [],
   "source": [
    "# Fill all missing values with mode\n",
    "for column in df1.columns:\n",
    "    df1[column].fillna(df1[column].mode()[0], inplace=True)"
   ]
  },
  {
   "cell_type": "code",
   "execution_count": 6,
   "metadata": {},
   "outputs": [
    {
     "data": {
      "image/png": "[encoded data removed]",
      "text/plain": [
       "<Figure size 1728x720 with 3 Axes>"
      ]
     },
     "metadata": {
      "needs_background": "light"
     },
     "output_type": "display_data"
    }
   ],
   "source": [
    "# Check missing values again\n",
    "df1.isnull().sum()\n",
    "msno.bar(df1)\n",
    "plt.savefig('filled_missing_val')"
   ]
  },
  {
   "cell_type": "code",
   "execution_count": 7,
   "metadata": {},
   "outputs": [
    {
     "data": {
      "text/plain": [
       "Credit_Card_Exceed_Months              int64\n",
       "Employment_Type                       object\n",
       "Loan_Amount                          float64\n",
       "Loan_Tenure_Year                     float64\n",
       "More_Than_One_Products                object\n",
       "Credit_Card_types                     object\n",
       "Number_of_Dependents                 float64\n",
       "Years_to_Financial_Freedom           float64\n",
       "Number_of_Credit_Card_Facility       float64\n",
       "Number_of_Properties                 float64\n",
       "Number_of_Bank_Products              float64\n",
       "Number_of_Loan_to_Approve              int64\n",
       "Property_Type                         object\n",
       "Years_for_Property_to_Completion     float64\n",
       "State                                 object\n",
       "Number_of_Side_Income                float64\n",
       "Monthly_Salary                       float64\n",
       "Total_Sum_of_Loan                    float64\n",
       "Total_Income_for_Join_Application    float64\n",
       "Decision                              object\n",
       "Score                                  int64\n",
       "dtype: object"
      ]
     },
     "execution_count": 7,
     "metadata": {},
     "output_type": "execute_result"
    }
   ],
   "source": [
    "df1.dtypes"
   ]
  },
  {
   "cell_type": "markdown",
   "metadata": {},
   "source": [
    "##### Step 2: Dealing With Noisy Data."
   ]
  },
  {
   "cell_type": "code",
   "execution_count": 8,
   "metadata": {},
   "outputs": [],
   "source": [
    "# Employment_Type\n",
    "df1.Employment_Type = df1.Employment_Type.replace(\"employer\", \"Employer\", regex=True)\n",
    "df1.Employment_Type = df1.Employment_Type.replace(\"Self_Employed\", \"Self Employed\", regex=True)\n",
    "df1.Employment_Type = df1.Employment_Type.replace(\"government\", \"Government\", regex=True)\n",
    "df1.Employment_Type = df1.Employment_Type.replace(\"employee\", \"Employee\", regex=True)\n",
    "df1.Employment_Type = df1.Employment_Type.replace(\"Fresh_Graduate\", \"Fresh Graduate\", regex=True)\n",
    "\n",
    "# Credit_Card_types\n",
    "df1.Credit_Card_types = df1.Credit_Card_types.replace(\"platinum\", \"Platinum\", regex=True)\n",
    "df1.Credit_Card_types = df1.Credit_Card_types.replace(\"normal\", \"Normal\", regex=True)\n",
    "df1.Credit_Card_types = df1.Credit_Card_types.replace(\"gold\", \"Gold\", regex=True)\n",
    "\n",
    "# Property_Type\n",
    "df1.Property_Type = df1.Property_Type.replace(\"bungalow\", \"Bungalow\", regex=True)\n",
    "df1.Property_Type = df1.Property_Type.replace(\"condominium\", \"Condominium\", regex=True)\n",
    "df1.Property_Type = df1.Property_Type.replace(\"flat\", \"Flat\", regex=True)\n",
    "df1.Property_Type = df1.Property_Type.replace(\"terrace\", \"Terrace\", regex=True)\n",
    "\n",
    "# State\n",
    "df1.State = df1.State.replace(\"P.Pinang\", \"Penang\", regex=True)\n",
    "df1.State = df1.State.replace(\"Pulau Penang\", \"Penang\", regex=True)\n",
    "df1.State = df1.State.replace(\"Johor B\", \"Johor\", regex=True)\n",
    "df1.State = df1.State.replace(\"K.L\", \"Kuala Lumpur\", regex=True)\n",
    "df1.State = df1.State.replace(\"N.Sembilan\", \"Negeri Sembilan\", regex=True)\n",
    "df1.State = df1.State.replace(\"N.S\", \"Negeri Sembilan\", regex=True)\n",
    "df1.State = df1.State.replace(\"SWK\", \"Sarawak\", regex=True)\n",
    "df1.State = df1.State.replace(\"Trengganu\", \"Terrenganu\", regex=True)"
   ]
  },
  {
   "cell_type": "code",
   "execution_count": 9,
   "metadata": {},
   "outputs": [],
   "source": [
    "#Duplicate the dataframe again for replacing dtype\n",
    "df2 = df1.copy()"
   ]
  },
  {
   "cell_type": "code",
   "execution_count": 10,
   "metadata": {},
   "outputs": [],
   "source": [
    "# Change Loan_Amount to Categorical DType\n",
    "df2['Loan_Amount'] = np.where(df1['Loan_Amount'].between(100000.0,300000.0), '100000-300000', df2['Loan_Amount'])\n",
    "df2['Loan_Amount'] = np.where(df1['Loan_Amount'].between(300000.0,500000.0), '300000-500000', df2['Loan_Amount'])\n",
    "df2['Loan_Amount'] = np.where(df1['Loan_Amount'].between(500000.0,700000.0), '500000-700000', df2['Loan_Amount'])\n",
    "df2['Loan_Amount'] = np.where(df1['Loan_Amount'].between(700000.0,900000.0), '700000-900000', df2['Loan_Amount'])\n",
    "df2['Loan_Amount'] = df2['Loan_Amount'].astype(\"category\")\n",
    "\n",
    "# Change Loan_Amount to Categorical DType\n",
    "df2['Monthly_Salary'] = np.where(df1['Monthly_Salary'] < 4000.0, '<4000', df2['Monthly_Salary'])\n",
    "df2['Monthly_Salary'] = np.where(df1['Monthly_Salary'].between(4000.0,7000.0), '4000-7000', df2['Monthly_Salary'])\n",
    "df2['Monthly_Salary'] = np.where(df1['Monthly_Salary'].between(7000.0,10000.0), '7000-10000', df2['Monthly_Salary'])\n",
    "df2['Monthly_Salary'] = np.where(df1['Monthly_Salary'].between(10000.0,13000.0), '10000-13000', df2['Monthly_Salary'])\n",
    "df2['Monthly_Salary'] = df2['Monthly_Salary'].astype(\"category\")"
   ]
  },
  {
   "cell_type": "code",
   "execution_count": 11,
   "metadata": {},
   "outputs": [
    {
     "data": {
      "text/html": [
       "<div>\n",
       "<style scoped>\n",
       "    .dataframe tbody tr th:only-of-type {\n",
       "        vertical-align: middle;\n",
       "    }\n",
       "\n",
       "    .dataframe tbody tr th {\n",
       "        vertical-align: top;\n",
       "    }\n",
       "\n",
       "    .dataframe thead th {\n",
       "        text-align: right;\n",
       "    }\n",
       "</style>\n",
       "<table border=\"1\" class=\"dataframe\">\n",
       "  <thead>\n",
       "    <tr style=\"text-align: right;\">\n",
       "      <th></th>\n",
       "      <th>Credit_Card_Exceed_Months</th>\n",
       "      <th>Employment_Type</th>\n",
       "      <th>Loan_Amount</th>\n",
       "      <th>Loan_Tenure_Year</th>\n",
       "      <th>More_Than_One_Products</th>\n",
       "      <th>Credit_Card_types</th>\n",
       "      <th>Number_of_Dependents</th>\n",
       "      <th>Years_to_Financial_Freedom</th>\n",
       "      <th>Number_of_Credit_Card_Facility</th>\n",
       "      <th>Number_of_Properties</th>\n",
       "      <th>...</th>\n",
       "      <th>Number_of_Loan_to_Approve</th>\n",
       "      <th>Property_Type</th>\n",
       "      <th>Years_for_Property_to_Completion</th>\n",
       "      <th>State</th>\n",
       "      <th>Number_of_Side_Income</th>\n",
       "      <th>Monthly_Salary</th>\n",
       "      <th>Total_Sum_of_Loan</th>\n",
       "      <th>Total_Income_for_Join_Application</th>\n",
       "      <th>Decision</th>\n",
       "      <th>Score</th>\n",
       "    </tr>\n",
       "  </thead>\n",
       "  <tbody>\n",
       "    <tr>\n",
       "      <th>0</th>\n",
       "      <td>1</td>\n",
       "      <td>employer</td>\n",
       "      <td>NaN</td>\n",
       "      <td>16.0</td>\n",
       "      <td>yes</td>\n",
       "      <td>platinum</td>\n",
       "      <td>2.0</td>\n",
       "      <td>5.0</td>\n",
       "      <td>2.0</td>\n",
       "      <td>2.0</td>\n",
       "      <td>...</td>\n",
       "      <td>1</td>\n",
       "      <td>condominium</td>\n",
       "      <td>10.0</td>\n",
       "      <td>Johor</td>\n",
       "      <td>2.0</td>\n",
       "      <td>12262.0</td>\n",
       "      <td>853141.0</td>\n",
       "      <td>16025.0</td>\n",
       "      <td>Reject</td>\n",
       "      <td>7</td>\n",
       "    </tr>\n",
       "    <tr>\n",
       "      <th>1</th>\n",
       "      <td>1</td>\n",
       "      <td>employer</td>\n",
       "      <td>605505.0</td>\n",
       "      <td>19.0</td>\n",
       "      <td>no</td>\n",
       "      <td>normal</td>\n",
       "      <td>2.0</td>\n",
       "      <td>NaN</td>\n",
       "      <td>2.0</td>\n",
       "      <td>2.0</td>\n",
       "      <td>...</td>\n",
       "      <td>2</td>\n",
       "      <td>NaN</td>\n",
       "      <td>10.0</td>\n",
       "      <td>Johor</td>\n",
       "      <td>2.0</td>\n",
       "      <td>9251.0</td>\n",
       "      <td>882901.0</td>\n",
       "      <td>17082.0</td>\n",
       "      <td>Accept</td>\n",
       "      <td>9</td>\n",
       "    </tr>\n",
       "    <tr>\n",
       "      <th>2</th>\n",
       "      <td>1</td>\n",
       "      <td>employer</td>\n",
       "      <td>NaN</td>\n",
       "      <td>NaN</td>\n",
       "      <td>yes</td>\n",
       "      <td>normal</td>\n",
       "      <td>2.0</td>\n",
       "      <td>5.0</td>\n",
       "      <td>2.0</td>\n",
       "      <td>2.0</td>\n",
       "      <td>...</td>\n",
       "      <td>3</td>\n",
       "      <td>condominium</td>\n",
       "      <td>10.0</td>\n",
       "      <td>Johor</td>\n",
       "      <td>NaN</td>\n",
       "      <td>4919.0</td>\n",
       "      <td>540489.0</td>\n",
       "      <td>12613.0</td>\n",
       "      <td>Reject</td>\n",
       "      <td>8</td>\n",
       "    </tr>\n",
       "    <tr>\n",
       "      <th>3</th>\n",
       "      <td>1</td>\n",
       "      <td>employer</td>\n",
       "      <td>490216.0</td>\n",
       "      <td>NaN</td>\n",
       "      <td>no</td>\n",
       "      <td>normal</td>\n",
       "      <td>2.0</td>\n",
       "      <td>5.0</td>\n",
       "      <td>NaN</td>\n",
       "      <td>2.0</td>\n",
       "      <td>...</td>\n",
       "      <td>1</td>\n",
       "      <td>condominium</td>\n",
       "      <td>10.0</td>\n",
       "      <td>Johor</td>\n",
       "      <td>NaN</td>\n",
       "      <td>4459.0</td>\n",
       "      <td>536727.0</td>\n",
       "      <td>10952.0</td>\n",
       "      <td>Accept</td>\n",
       "      <td>9</td>\n",
       "    </tr>\n",
       "    <tr>\n",
       "      <th>4</th>\n",
       "      <td>1</td>\n",
       "      <td>employer</td>\n",
       "      <td>292728.0</td>\n",
       "      <td>14.0</td>\n",
       "      <td>yes</td>\n",
       "      <td>normal</td>\n",
       "      <td>2.0</td>\n",
       "      <td>5.0</td>\n",
       "      <td>2.0</td>\n",
       "      <td>2.0</td>\n",
       "      <td>...</td>\n",
       "      <td>2</td>\n",
       "      <td>condominium</td>\n",
       "      <td>10.0</td>\n",
       "      <td>Johor</td>\n",
       "      <td>3.0</td>\n",
       "      <td>5628.0</td>\n",
       "      <td>774695.0</td>\n",
       "      <td>NaN</td>\n",
       "      <td>Reject</td>\n",
       "      <td>8</td>\n",
       "    </tr>\n",
       "  </tbody>\n",
       "</table>\n",
       "<p>5 rows × 21 columns</p>\n",
       "</div>"
      ],
      "text/plain": [
       "   Credit_Card_Exceed_Months Employment_Type  Loan_Amount  Loan_Tenure_Year  \\\n",
       "0                          1        employer          NaN              16.0   \n",
       "1                          1        employer     605505.0              19.0   \n",
       "2                          1        employer          NaN               NaN   \n",
       "3                          1        employer     490216.0               NaN   \n",
       "4                          1        employer     292728.0              14.0   \n",
       "\n",
       "  More_Than_One_Products Credit_Card_types  Number_of_Dependents  \\\n",
       "0                    yes          platinum                   2.0   \n",
       "1                     no            normal                   2.0   \n",
       "2                    yes            normal                   2.0   \n",
       "3                     no            normal                   2.0   \n",
       "4                    yes            normal                   2.0   \n",
       "\n",
       "   Years_to_Financial_Freedom  Number_of_Credit_Card_Facility  \\\n",
       "0                         5.0                             2.0   \n",
       "1                         NaN                             2.0   \n",
       "2                         5.0                             2.0   \n",
       "3                         5.0                             NaN   \n",
       "4                         5.0                             2.0   \n",
       "\n",
       "   Number_of_Properties  ...  Number_of_Loan_to_Approve  Property_Type  \\\n",
       "0                   2.0  ...                          1    condominium   \n",
       "1                   2.0  ...                          2            NaN   \n",
       "2                   2.0  ...                          3    condominium   \n",
       "3                   2.0  ...                          1    condominium   \n",
       "4                   2.0  ...                          2    condominium   \n",
       "\n",
       "  Years_for_Property_to_Completion  State Number_of_Side_Income  \\\n",
       "0                             10.0  Johor                   2.0   \n",
       "1                             10.0  Johor                   2.0   \n",
       "2                             10.0  Johor                   NaN   \n",
       "3                             10.0  Johor                   NaN   \n",
       "4                             10.0  Johor                   3.0   \n",
       "\n",
       "   Monthly_Salary  Total_Sum_of_Loan  Total_Income_for_Join_Application  \\\n",
       "0         12262.0           853141.0                            16025.0   \n",
       "1          9251.0           882901.0                            17082.0   \n",
       "2          4919.0           540489.0                            12613.0   \n",
       "3          4459.0           536727.0                            10952.0   \n",
       "4          5628.0           774695.0                                NaN   \n",
       "\n",
       "   Decision Score  \n",
       "0    Reject     7  \n",
       "1    Accept     9  \n",
       "2    Reject     8  \n",
       "3    Accept     9  \n",
       "4    Reject     8  \n",
       "\n",
       "[5 rows x 21 columns]"
      ]
     },
     "execution_count": 11,
     "metadata": {},
     "output_type": "execute_result"
    }
   ],
   "source": [
    "df.head()"
   ]
  },
  {
   "cell_type": "code",
   "execution_count": 12,
   "metadata": {},
   "outputs": [
    {
     "data": {
      "text/html": [
       "<div>\n",
       "<style scoped>\n",
       "    .dataframe tbody tr th:only-of-type {\n",
       "        vertical-align: middle;\n",
       "    }\n",
       "\n",
       "    .dataframe tbody tr th {\n",
       "        vertical-align: top;\n",
       "    }\n",
       "\n",
       "    .dataframe thead th {\n",
       "        text-align: right;\n",
       "    }\n",
       "</style>\n",
       "<table border=\"1\" class=\"dataframe\">\n",
       "  <thead>\n",
       "    <tr style=\"text-align: right;\">\n",
       "      <th></th>\n",
       "      <th>Credit_Card_Exceed_Months</th>\n",
       "      <th>Employment_Type</th>\n",
       "      <th>Loan_Amount</th>\n",
       "      <th>Loan_Tenure_Year</th>\n",
       "      <th>More_Than_One_Products</th>\n",
       "      <th>Credit_Card_types</th>\n",
       "      <th>Number_of_Dependents</th>\n",
       "      <th>Years_to_Financial_Freedom</th>\n",
       "      <th>Number_of_Credit_Card_Facility</th>\n",
       "      <th>Number_of_Properties</th>\n",
       "      <th>...</th>\n",
       "      <th>Number_of_Loan_to_Approve</th>\n",
       "      <th>Property_Type</th>\n",
       "      <th>Years_for_Property_to_Completion</th>\n",
       "      <th>State</th>\n",
       "      <th>Number_of_Side_Income</th>\n",
       "      <th>Monthly_Salary</th>\n",
       "      <th>Total_Sum_of_Loan</th>\n",
       "      <th>Total_Income_for_Join_Application</th>\n",
       "      <th>Decision</th>\n",
       "      <th>Score</th>\n",
       "    </tr>\n",
       "  </thead>\n",
       "  <tbody>\n",
       "    <tr>\n",
       "      <th>0</th>\n",
       "      <td>1</td>\n",
       "      <td>Employer</td>\n",
       "      <td>694633.0</td>\n",
       "      <td>16.0</td>\n",
       "      <td>yes</td>\n",
       "      <td>Platinum</td>\n",
       "      <td>2.0</td>\n",
       "      <td>5.0</td>\n",
       "      <td>2.0</td>\n",
       "      <td>2.0</td>\n",
       "      <td>...</td>\n",
       "      <td>1</td>\n",
       "      <td>Condominium</td>\n",
       "      <td>10.0</td>\n",
       "      <td>Johor</td>\n",
       "      <td>2.0</td>\n",
       "      <td>12262.0</td>\n",
       "      <td>853141.0</td>\n",
       "      <td>16025.0</td>\n",
       "      <td>Reject</td>\n",
       "      <td>7</td>\n",
       "    </tr>\n",
       "    <tr>\n",
       "      <th>1</th>\n",
       "      <td>1</td>\n",
       "      <td>Employer</td>\n",
       "      <td>605505.0</td>\n",
       "      <td>19.0</td>\n",
       "      <td>no</td>\n",
       "      <td>Normal</td>\n",
       "      <td>2.0</td>\n",
       "      <td>15.0</td>\n",
       "      <td>2.0</td>\n",
       "      <td>2.0</td>\n",
       "      <td>...</td>\n",
       "      <td>2</td>\n",
       "      <td>Condominium</td>\n",
       "      <td>10.0</td>\n",
       "      <td>Johor</td>\n",
       "      <td>2.0</td>\n",
       "      <td>9251.0</td>\n",
       "      <td>882901.0</td>\n",
       "      <td>17082.0</td>\n",
       "      <td>Accept</td>\n",
       "      <td>9</td>\n",
       "    </tr>\n",
       "    <tr>\n",
       "      <th>2</th>\n",
       "      <td>1</td>\n",
       "      <td>Employer</td>\n",
       "      <td>694633.0</td>\n",
       "      <td>22.0</td>\n",
       "      <td>yes</td>\n",
       "      <td>Normal</td>\n",
       "      <td>2.0</td>\n",
       "      <td>5.0</td>\n",
       "      <td>2.0</td>\n",
       "      <td>2.0</td>\n",
       "      <td>...</td>\n",
       "      <td>3</td>\n",
       "      <td>Condominium</td>\n",
       "      <td>10.0</td>\n",
       "      <td>Johor</td>\n",
       "      <td>3.0</td>\n",
       "      <td>4919.0</td>\n",
       "      <td>540489.0</td>\n",
       "      <td>12613.0</td>\n",
       "      <td>Reject</td>\n",
       "      <td>8</td>\n",
       "    </tr>\n",
       "    <tr>\n",
       "      <th>3</th>\n",
       "      <td>1</td>\n",
       "      <td>Employer</td>\n",
       "      <td>490216.0</td>\n",
       "      <td>22.0</td>\n",
       "      <td>no</td>\n",
       "      <td>Normal</td>\n",
       "      <td>2.0</td>\n",
       "      <td>5.0</td>\n",
       "      <td>4.0</td>\n",
       "      <td>2.0</td>\n",
       "      <td>...</td>\n",
       "      <td>1</td>\n",
       "      <td>Condominium</td>\n",
       "      <td>10.0</td>\n",
       "      <td>Johor</td>\n",
       "      <td>3.0</td>\n",
       "      <td>4459.0</td>\n",
       "      <td>536727.0</td>\n",
       "      <td>10952.0</td>\n",
       "      <td>Accept</td>\n",
       "      <td>9</td>\n",
       "    </tr>\n",
       "    <tr>\n",
       "      <th>4</th>\n",
       "      <td>1</td>\n",
       "      <td>Employer</td>\n",
       "      <td>292728.0</td>\n",
       "      <td>14.0</td>\n",
       "      <td>yes</td>\n",
       "      <td>Normal</td>\n",
       "      <td>2.0</td>\n",
       "      <td>5.0</td>\n",
       "      <td>2.0</td>\n",
       "      <td>2.0</td>\n",
       "      <td>...</td>\n",
       "      <td>2</td>\n",
       "      <td>Condominium</td>\n",
       "      <td>10.0</td>\n",
       "      <td>Johor</td>\n",
       "      <td>3.0</td>\n",
       "      <td>5628.0</td>\n",
       "      <td>774695.0</td>\n",
       "      <td>9532.0</td>\n",
       "      <td>Reject</td>\n",
       "      <td>8</td>\n",
       "    </tr>\n",
       "  </tbody>\n",
       "</table>\n",
       "<p>5 rows × 21 columns</p>\n",
       "</div>"
      ],
      "text/plain": [
       "   Credit_Card_Exceed_Months Employment_Type  Loan_Amount  Loan_Tenure_Year  \\\n",
       "0                          1        Employer     694633.0              16.0   \n",
       "1                          1        Employer     605505.0              19.0   \n",
       "2                          1        Employer     694633.0              22.0   \n",
       "3                          1        Employer     490216.0              22.0   \n",
       "4                          1        Employer     292728.0              14.0   \n",
       "\n",
       "  More_Than_One_Products Credit_Card_types  Number_of_Dependents  \\\n",
       "0                    yes          Platinum                   2.0   \n",
       "1                     no            Normal                   2.0   \n",
       "2                    yes            Normal                   2.0   \n",
       "3                     no            Normal                   2.0   \n",
       "4                    yes            Normal                   2.0   \n",
       "\n",
       "   Years_to_Financial_Freedom  Number_of_Credit_Card_Facility  \\\n",
       "0                         5.0                             2.0   \n",
       "1                        15.0                             2.0   \n",
       "2                         5.0                             2.0   \n",
       "3                         5.0                             4.0   \n",
       "4                         5.0                             2.0   \n",
       "\n",
       "   Number_of_Properties  ...  Number_of_Loan_to_Approve  Property_Type  \\\n",
       "0                   2.0  ...                          1    Condominium   \n",
       "1                   2.0  ...                          2    Condominium   \n",
       "2                   2.0  ...                          3    Condominium   \n",
       "3                   2.0  ...                          1    Condominium   \n",
       "4                   2.0  ...                          2    Condominium   \n",
       "\n",
       "  Years_for_Property_to_Completion  State Number_of_Side_Income  \\\n",
       "0                             10.0  Johor                   2.0   \n",
       "1                             10.0  Johor                   2.0   \n",
       "2                             10.0  Johor                   3.0   \n",
       "3                             10.0  Johor                   3.0   \n",
       "4                             10.0  Johor                   3.0   \n",
       "\n",
       "   Monthly_Salary  Total_Sum_of_Loan  Total_Income_for_Join_Application  \\\n",
       "0         12262.0           853141.0                            16025.0   \n",
       "1          9251.0           882901.0                            17082.0   \n",
       "2          4919.0           540489.0                            12613.0   \n",
       "3          4459.0           536727.0                            10952.0   \n",
       "4          5628.0           774695.0                             9532.0   \n",
       "\n",
       "   Decision Score  \n",
       "0    Reject     7  \n",
       "1    Accept     9  \n",
       "2    Reject     8  \n",
       "3    Accept     9  \n",
       "4    Reject     8  \n",
       "\n",
       "[5 rows x 21 columns]"
      ]
     },
     "execution_count": 12,
     "metadata": {},
     "output_type": "execute_result"
    }
   ],
   "source": [
    "df1.head()"
   ]
  },
  {
   "cell_type": "markdown",
   "metadata": {},
   "source": [
    "#### Exploratory Data Analysis Before SMOTE"
   ]
  },
  {
   "cell_type": "code",
   "execution_count": 13,
   "metadata": {},
   "outputs": [
    {
     "data": {
      "image/png": "[encoded data removed]",
      "text/plain": [
       "<Figure size 432x288 with 1 Axes>"
      ]
     },
     "metadata": {
      "needs_background": "light"
     },
     "output_type": "display_data"
    }
   ],
   "source": [
    "# which type of employment is likely to have the loan accepted?\n",
    "b = sns.countplot(x='Employment_Type', data = df2)\n",
    "\n",
    "for p in b.patches:\n",
    "    b.annotate(\"%.0f\" % p.get_height(), (p.get_x() + \n",
    "    p.get_width() / 2., p.get_height()), \n",
    "    ha='center', va='center', rotation=0, \n",
    "    xytext=(0, 18), textcoords='offset points')\n",
    "plt.savefig('bSMOTE_employment')"
   ]
  },
  {
   "cell_type": "code",
   "execution_count": 14,
   "metadata": {},
   "outputs": [
    {
     "data": {
      "image/png": "[encoded data removed]",
      "text/plain": [
       "<Figure size 432x288 with 1 Axes>"
      ]
     },
     "metadata": {
      "needs_background": "light"
     },
     "output_type": "display_data"
    }
   ],
   "source": [
    "# which type of credit card user is likely to have the loan accepted?\n",
    "b = sns.countplot(x='Credit_Card_types', data = df2)\n",
    "\n",
    "for p in b.patches:\n",
    "    b.annotate(\"%.0f\" % p.get_height(), (p.get_x() + \n",
    "    p.get_width() / 2., p.get_height()), \n",
    "    ha='center', va='center', rotation=0, \n",
    "    xytext=(0, 18), textcoords='offset points')\n",
    "plt.savefig('bSMOTE_ccard_type')"
   ]
  },
  {
   "cell_type": "code",
   "execution_count": 15,
   "metadata": {},
   "outputs": [
    {
     "data": {
      "image/png": "[encoded data removed]",
      "text/plain": [
       "<Figure size 432x288 with 1 Axes>"
      ]
     },
     "metadata": {
      "needs_background": "light"
     },
     "output_type": "display_data"
    }
   ],
   "source": [
    "# which type of properties is likely to have the loan accepted?\n",
    "b = sns.countplot(x='Property_Type', data = df2)\n",
    "\n",
    "for p in b.patches:\n",
    "    b.annotate(\"%.0f\" % p.get_height(), (p.get_x() + \n",
    "    p.get_width() / 2., p.get_height()), \n",
    "    ha='center', va='center', rotation=0, \n",
    "    xytext=(0, 18), textcoords='offset points')\n",
    "plt.savefig('bSMOTE_property')"
   ]
  },
  {
   "cell_type": "code",
   "execution_count": 16,
   "metadata": {},
   "outputs": [
    {
     "data": {
      "image/png": "[encoded data removed]",
      "text/plain": [
       "<Figure size 432x288 with 1 Axes>"
      ]
     },
     "metadata": {
      "needs_background": "light"
     },
     "output_type": "display_data"
    }
   ],
   "source": [
    "# what is the amount of loan that is likely to have the loan accepted?\n",
    "b = sns.countplot(x='Loan_Amount', data = df2)\n",
    "\n",
    "for p in b.patches:\n",
    "    b.annotate(\"%.0f\" % p.get_height(), (p.get_x() + \n",
    "    p.get_width() / 2., p.get_height()), \n",
    "    ha='center', va='center', rotation=0, \n",
    "    xytext=(0, 18), textcoords='offset points')\n",
    "plt.savefig('bSMOTE_loan_amount')"
   ]
  },
  {
   "cell_type": "code",
   "execution_count": 17,
   "metadata": {},
   "outputs": [
    {
     "data": {
      "image/png": "[encoded data removed]",
      "text/plain": [
       "<Figure size 432x288 with 1 Axes>"
      ]
     },
     "metadata": {
      "needs_background": "light"
     },
     "output_type": "display_data"
    }
   ],
   "source": [
    "# what is the monthly salary that is likely to have the loan accepted?\n",
    "b = sns.countplot(x='Monthly_Salary', data = df2)\n",
    "\n",
    "for p in b.patches:\n",
    "    b.annotate(\"%.0f\" % p.get_height(), (p.get_x() + \n",
    "    p.get_width() / 2., p.get_height()), \n",
    "    ha='center', va='center', rotation=0, \n",
    "    xytext=(0, 18), textcoords='offset points')\n",
    "plt.savefig('bSMOTE_month_salary')"
   ]
  },
  {
   "cell_type": "code",
   "execution_count": 18,
   "metadata": {},
   "outputs": [
    {
     "data": {
      "image/png": "[encoded data removed]",
      "text/plain": [
       "<Figure size 472.625x360 with 1 Axes>"
      ]
     },
     "metadata": {
      "needs_background": "light"
     },
     "output_type": "display_data"
    }
   ],
   "source": [
    "# Count the number of customers by Decision and Employment_Type\n",
    "g = sns.catplot(x=\"Decision\", hue=\"Employment_Type\", kind=\"count\", data=df2)\n",
    "\n",
    "ax = g.facet_axis(0,0)\n",
    "for p in ax.patches:\n",
    "    ax.annotate(format(p.get_height(), '.0f'), (p.get_x() + p.get_width() / 2., p.get_height()), ha = 'center', va = 'center', xytext = (0, 10), textcoords = 'offset points')\n",
    "plt.savefig('bSMOTE_dcs_employment')"
   ]
  },
  {
   "cell_type": "code",
   "execution_count": 19,
   "metadata": {},
   "outputs": [
    {
     "data": {
      "image/png": "[encoded data removed]",
      "text/plain": [
       "<Figure size 458.75x360 with 1 Axes>"
      ]
     },
     "metadata": {
      "needs_background": "light"
     },
     "output_type": "display_data"
    }
   ],
   "source": [
    "# Count the number of customers by Decision and Credit_Card_type\n",
    "g = sns.catplot(x=\"Decision\", hue=\"Credit_Card_types\", kind=\"count\", data=df2)\n",
    "\n",
    "ax = g.facet_axis(0,0)\n",
    "for p in ax.patches:\n",
    "    ax.annotate(format(p.get_height(), '.0f'), (p.get_x() + p.get_width() / 2., p.get_height()), ha = 'center', va = 'center', xytext = (0, 10), textcoords = 'offset points')\n",
    "plt.savefig('bSMOTE_dcs_ccard_type')"
   ]
  },
  {
   "cell_type": "code",
   "execution_count": 20,
   "metadata": {},
   "outputs": [
    {
     "data": {
      "image/png": "[encoded data removed]",
      "text/plain": [
       "<Figure size 465.375x360 with 1 Axes>"
      ]
     },
     "metadata": {
      "needs_background": "light"
     },
     "output_type": "display_data"
    }
   ],
   "source": [
    "# Count the number of customers by Decision and Property_Type\n",
    "g = sns.catplot(x=\"Decision\", hue=\"Property_Type\", kind=\"count\", data=df2)\n",
    "\n",
    "ax = g.facet_axis(0,0)\n",
    "for p in ax.patches:\n",
    "    ax.annotate(format(p.get_height(), '.0f'), (p.get_x() + p.get_width() / 2., p.get_height()), ha = 'center', va = 'center', xytext = (0, 10), textcoords = 'offset points')\n",
    "plt.savefig('bSMOTE_dcs_property')"
   ]
  },
  {
   "cell_type": "code",
   "execution_count": 21,
   "metadata": {},
   "outputs": [
    {
     "data": {
      "image/png": "[encoded data removed]",
      "text/plain": [
       "<Figure size 463.375x360 with 1 Axes>"
      ]
     },
     "metadata": {
      "needs_background": "light"
     },
     "output_type": "display_data"
    }
   ],
   "source": [
    "# Count the number of customers by Decision and Loan_Amount\n",
    "g = sns.catplot(x=\"Decision\", hue=\"Monthly_Salary\", kind=\"count\", data=df2)\n",
    "\n",
    "ax = g.facet_axis(0,0)\n",
    "for p in ax.patches:\n",
    "    ax.annotate(format(p.get_height(), '.0f'), (p.get_x() + p.get_width() / 2., p.get_height()), ha = 'center', va = 'center', xytext = (0, 10), textcoords = 'offset points')\n",
    "plt.savefig('bSMOTE_dcs_monthly_salary')"
   ]
  },
  {
   "cell_type": "code",
   "execution_count": 22,
   "metadata": {},
   "outputs": [
    {
     "data": {
      "image/png": "[encoded data removed]",
      "text/plain": [
       "<Figure size 432x288 with 1 Axes>"
      ]
     },
     "metadata": {
      "needs_background": "light"
     },
     "output_type": "display_data"
    }
   ],
   "source": [
    "# what is the decision made by the bank the most frequent?\n",
    "b = sns.countplot(x='Decision', data = df2)\n",
    "\n",
    "for p in b.patches:\n",
    "    b.annotate(\"%.0f\" % p.get_height(), (p.get_x() + \n",
    "    p.get_width() / 2., p.get_height()), \n",
    "    ha='center', va='center', rotation=0, \n",
    "    xytext=(0, 18), textcoords='offset points')\n",
    "plt.savefig('bSMOTE_dcs_bank')"
   ]
  },
  {
   "cell_type": "markdown",
   "metadata": {},
   "source": [
    "#### Applying SMOTE based on Decision"
   ]
  },
  {
   "cell_type": "code",
   "execution_count": 23,
   "metadata": {},
   "outputs": [],
   "source": [
    "df3 = df2.copy()\n",
    "\n",
    "dictionary = defaultdict(LabelEncoder)\n",
    "df3 = df2.apply(lambda x: dictionary[x.name].fit_transform(x))\n",
    "\n",
    "y = df3.Decision\n",
    "X = df3.drop(columns =['Decision'])"
   ]
  },
  {
   "cell_type": "code",
   "execution_count": 24,
   "metadata": {},
   "outputs": [],
   "source": [
    "smt = imblearn.over_sampling.SMOTE(sampling_strategy=\"minority\", random_state=10, k_neighbors=5)\n",
    "X_res, y_res = smt.fit_resample(X, y)\n",
    "colnames = X_res.columns"
   ]
  },
  {
   "cell_type": "markdown",
   "metadata": {},
   "source": [
    "#### Exploratory Data Analysis after SMOTE (Based on Decision)"
   ]
  },
  {
   "cell_type": "code",
   "execution_count": 25,
   "metadata": {},
   "outputs": [
    {
     "data": {
      "text/html": [
       "<div>\n",
       "<style scoped>\n",
       "    .dataframe tbody tr th:only-of-type {\n",
       "        vertical-align: middle;\n",
       "    }\n",
       "\n",
       "    .dataframe tbody tr th {\n",
       "        vertical-align: top;\n",
       "    }\n",
       "\n",
       "    .dataframe thead th {\n",
       "        text-align: right;\n",
       "    }\n",
       "</style>\n",
       "<table border=\"1\" class=\"dataframe\">\n",
       "  <thead>\n",
       "    <tr style=\"text-align: right;\">\n",
       "      <th></th>\n",
       "      <th>Credit_Card_Exceed_Months</th>\n",
       "      <th>Employment_Type</th>\n",
       "      <th>Loan_Amount</th>\n",
       "      <th>Loan_Tenure_Year</th>\n",
       "      <th>More_Than_One_Products</th>\n",
       "      <th>Credit_Card_types</th>\n",
       "      <th>Number_of_Dependents</th>\n",
       "      <th>Years_to_Financial_Freedom</th>\n",
       "      <th>Number_of_Credit_Card_Facility</th>\n",
       "      <th>Number_of_Properties</th>\n",
       "      <th>...</th>\n",
       "      <th>Number_of_Loan_to_Approve</th>\n",
       "      <th>Property_Type</th>\n",
       "      <th>Years_for_Property_to_Completion</th>\n",
       "      <th>State</th>\n",
       "      <th>Number_of_Side_Income</th>\n",
       "      <th>Monthly_Salary</th>\n",
       "      <th>Total_Sum_of_Loan</th>\n",
       "      <th>Total_Income_for_Join_Application</th>\n",
       "      <th>Score</th>\n",
       "      <th>Decision</th>\n",
       "    </tr>\n",
       "  </thead>\n",
       "  <tbody>\n",
       "    <tr>\n",
       "      <th>0</th>\n",
       "      <td>1</td>\n",
       "      <td>Employer</td>\n",
       "      <td>500000-700000</td>\n",
       "      <td>16.0</td>\n",
       "      <td>yes</td>\n",
       "      <td>Platinum</td>\n",
       "      <td>2.0</td>\n",
       "      <td>5.0</td>\n",
       "      <td>2.0</td>\n",
       "      <td>2.0</td>\n",
       "      <td>...</td>\n",
       "      <td>1</td>\n",
       "      <td>Condominium</td>\n",
       "      <td>10.0</td>\n",
       "      <td>Johor</td>\n",
       "      <td>2.0</td>\n",
       "      <td>10000-13000</td>\n",
       "      <td>853141.0</td>\n",
       "      <td>16025.0</td>\n",
       "      <td>7</td>\n",
       "      <td>Reject</td>\n",
       "    </tr>\n",
       "    <tr>\n",
       "      <th>1</th>\n",
       "      <td>1</td>\n",
       "      <td>Employer</td>\n",
       "      <td>500000-700000</td>\n",
       "      <td>19.0</td>\n",
       "      <td>no</td>\n",
       "      <td>Normal</td>\n",
       "      <td>2.0</td>\n",
       "      <td>15.0</td>\n",
       "      <td>2.0</td>\n",
       "      <td>2.0</td>\n",
       "      <td>...</td>\n",
       "      <td>2</td>\n",
       "      <td>Condominium</td>\n",
       "      <td>10.0</td>\n",
       "      <td>Johor</td>\n",
       "      <td>2.0</td>\n",
       "      <td>7000-10000</td>\n",
       "      <td>882901.0</td>\n",
       "      <td>17082.0</td>\n",
       "      <td>9</td>\n",
       "      <td>Accept</td>\n",
       "    </tr>\n",
       "    <tr>\n",
       "      <th>2</th>\n",
       "      <td>1</td>\n",
       "      <td>Employer</td>\n",
       "      <td>500000-700000</td>\n",
       "      <td>22.0</td>\n",
       "      <td>yes</td>\n",
       "      <td>Normal</td>\n",
       "      <td>2.0</td>\n",
       "      <td>5.0</td>\n",
       "      <td>2.0</td>\n",
       "      <td>2.0</td>\n",
       "      <td>...</td>\n",
       "      <td>3</td>\n",
       "      <td>Condominium</td>\n",
       "      <td>10.0</td>\n",
       "      <td>Johor</td>\n",
       "      <td>3.0</td>\n",
       "      <td>4000-7000</td>\n",
       "      <td>540489.0</td>\n",
       "      <td>12613.0</td>\n",
       "      <td>8</td>\n",
       "      <td>Reject</td>\n",
       "    </tr>\n",
       "    <tr>\n",
       "      <th>3</th>\n",
       "      <td>1</td>\n",
       "      <td>Employer</td>\n",
       "      <td>300000-500000</td>\n",
       "      <td>22.0</td>\n",
       "      <td>no</td>\n",
       "      <td>Normal</td>\n",
       "      <td>2.0</td>\n",
       "      <td>5.0</td>\n",
       "      <td>4.0</td>\n",
       "      <td>2.0</td>\n",
       "      <td>...</td>\n",
       "      <td>1</td>\n",
       "      <td>Condominium</td>\n",
       "      <td>10.0</td>\n",
       "      <td>Johor</td>\n",
       "      <td>3.0</td>\n",
       "      <td>4000-7000</td>\n",
       "      <td>536727.0</td>\n",
       "      <td>10952.0</td>\n",
       "      <td>9</td>\n",
       "      <td>Accept</td>\n",
       "    </tr>\n",
       "    <tr>\n",
       "      <th>4</th>\n",
       "      <td>1</td>\n",
       "      <td>Employer</td>\n",
       "      <td>100000-300000</td>\n",
       "      <td>14.0</td>\n",
       "      <td>yes</td>\n",
       "      <td>Normal</td>\n",
       "      <td>2.0</td>\n",
       "      <td>5.0</td>\n",
       "      <td>2.0</td>\n",
       "      <td>2.0</td>\n",
       "      <td>...</td>\n",
       "      <td>2</td>\n",
       "      <td>Condominium</td>\n",
       "      <td>10.0</td>\n",
       "      <td>Johor</td>\n",
       "      <td>3.0</td>\n",
       "      <td>4000-7000</td>\n",
       "      <td>774695.0</td>\n",
       "      <td>9532.0</td>\n",
       "      <td>8</td>\n",
       "      <td>Reject</td>\n",
       "    </tr>\n",
       "  </tbody>\n",
       "</table>\n",
       "<p>5 rows × 21 columns</p>\n",
       "</div>"
      ],
      "text/plain": [
       "   Credit_Card_Exceed_Months Employment_Type    Loan_Amount  Loan_Tenure_Year  \\\n",
       "0                          1        Employer  500000-700000              16.0   \n",
       "1                          1        Employer  500000-700000              19.0   \n",
       "2                          1        Employer  500000-700000              22.0   \n",
       "3                          1        Employer  300000-500000              22.0   \n",
       "4                          1        Employer  100000-300000              14.0   \n",
       "\n",
       "  More_Than_One_Products Credit_Card_types  Number_of_Dependents  \\\n",
       "0                    yes          Platinum                   2.0   \n",
       "1                     no            Normal                   2.0   \n",
       "2                    yes            Normal                   2.0   \n",
       "3                     no            Normal                   2.0   \n",
       "4                    yes            Normal                   2.0   \n",
       "\n",
       "   Years_to_Financial_Freedom  Number_of_Credit_Card_Facility  \\\n",
       "0                         5.0                             2.0   \n",
       "1                        15.0                             2.0   \n",
       "2                         5.0                             2.0   \n",
       "3                         5.0                             4.0   \n",
       "4                         5.0                             2.0   \n",
       "\n",
       "   Number_of_Properties  ...  Number_of_Loan_to_Approve  Property_Type  \\\n",
       "0                   2.0  ...                          1    Condominium   \n",
       "1                   2.0  ...                          2    Condominium   \n",
       "2                   2.0  ...                          3    Condominium   \n",
       "3                   2.0  ...                          1    Condominium   \n",
       "4                   2.0  ...                          2    Condominium   \n",
       "\n",
       "  Years_for_Property_to_Completion  State Number_of_Side_Income  \\\n",
       "0                             10.0  Johor                   2.0   \n",
       "1                             10.0  Johor                   2.0   \n",
       "2                             10.0  Johor                   3.0   \n",
       "3                             10.0  Johor                   3.0   \n",
       "4                             10.0  Johor                   3.0   \n",
       "\n",
       "   Monthly_Salary Total_Sum_of_Loan  Total_Income_for_Join_Application  Score  \\\n",
       "0     10000-13000          853141.0                            16025.0      7   \n",
       "1      7000-10000          882901.0                            17082.0      9   \n",
       "2       4000-7000          540489.0                            12613.0      8   \n",
       "3       4000-7000          536727.0                            10952.0      9   \n",
       "4       4000-7000          774695.0                             9532.0      8   \n",
       "\n",
       "   Decision  \n",
       "0    Reject  \n",
       "1    Accept  \n",
       "2    Reject  \n",
       "3    Accept  \n",
       "4    Reject  \n",
       "\n",
       "[5 rows x 21 columns]"
      ]
     },
     "execution_count": 25,
     "metadata": {},
     "output_type": "execute_result"
    }
   ],
   "source": [
    "dfSmote = pd.concat([X_res.reset_index(drop=True), y_res], axis=1) \n",
    "dfSmote = dfSmote.apply(lambda x: dictionary[x.name].inverse_transform(x))\n",
    "dfSmote.head()"
   ]
  },
  {
   "cell_type": "code",
   "execution_count": 26,
   "metadata": {},
   "outputs": [
    {
     "data": {
      "image/png": "[encoded data removed]",
      "text/plain": [
       "<Figure size 432x288 with 1 Axes>"
      ]
     },
     "metadata": {
      "needs_background": "light"
     },
     "output_type": "display_data"
    }
   ],
   "source": [
    "# which type of employment is likely to have the loan accepted?\n",
    "b = sns.countplot(x='Employment_Type', data = dfSmote)\n",
    "\n",
    "for p in b.patches:\n",
    "    b.annotate(\"%.0f\" % p.get_height(), (p.get_x() + \n",
    "    p.get_width() / 2., p.get_height()), \n",
    "    ha='center', va='center', rotation=0, \n",
    "    xytext=(0, 18), textcoords='offset points')\n",
    "plt.savefig('aSMOTE_employment')"
   ]
  },
  {
   "cell_type": "code",
   "execution_count": 27,
   "metadata": {},
   "outputs": [
    {
     "data": {
      "image/png": "[encoded data removed]",
      "text/plain": [
       "<Figure size 432x288 with 1 Axes>"
      ]
     },
     "metadata": {
      "needs_background": "light"
     },
     "output_type": "display_data"
    }
   ],
   "source": [
    "# which type of credit card user is likely to have the loan accepted?\n",
    "b = sns.countplot(x='Credit_Card_types', data = dfSmote)\n",
    "\n",
    "for p in b.patches:\n",
    "    b.annotate(\"%.0f\" % p.get_height(), (p.get_x() + \n",
    "    p.get_width() / 2., p.get_height()), \n",
    "    ha='center', va='center', rotation=0, \n",
    "    xytext=(0, 18), textcoords='offset points')\n",
    "plt.savefig('aSMOTE_ccard_type')"
   ]
  },
  {
   "cell_type": "code",
   "execution_count": 28,
   "metadata": {},
   "outputs": [
    {
     "data": {
      "image/png": "[encoded data removed]",
      "text/plain": [
       "<Figure size 432x288 with 1 Axes>"
      ]
     },
     "metadata": {
      "needs_background": "light"
     },
     "output_type": "display_data"
    }
   ],
   "source": [
    "# which type of properties is likely to have the loan accepted?\n",
    "b = sns.countplot(x='Property_Type', data = dfSmote)\n",
    "\n",
    "for p in b.patches:\n",
    "    b.annotate(\"%.0f\" % p.get_height(), (p.get_x() + \n",
    "    p.get_width() / 2., p.get_height()), \n",
    "    ha='center', va='center', rotation=0, \n",
    "    xytext=(0, 18), textcoords='offset points')\n",
    "plt.savefig('aSMOTE_property')"
   ]
  },
  {
   "cell_type": "code",
   "execution_count": 29,
   "metadata": {},
   "outputs": [
    {
     "data": {
      "image/png": "[encoded data removed]",
      "text/plain": [
       "<Figure size 432x288 with 1 Axes>"
      ]
     },
     "metadata": {
      "needs_background": "light"
     },
     "output_type": "display_data"
    }
   ],
   "source": [
    "# what is the amount of loan that is likely to have the loan accepted?\n",
    "b = sns.countplot(x='Loan_Amount', data = dfSmote)\n",
    "\n",
    "for p in b.patches:\n",
    "    b.annotate(\"%.0f\" % p.get_height(), (p.get_x() + \n",
    "    p.get_width() / 2., p.get_height()), \n",
    "    ha='center', va='center', rotation=0, \n",
    "    xytext=(0, 18), textcoords='offset points')\n",
    "plt.savefig('aSMOTE_loan_amount')"
   ]
  },
  {
   "cell_type": "code",
   "execution_count": 30,
   "metadata": {},
   "outputs": [
    {
     "data": {
      "image/png": "[encoded data removed]",
      "text/plain": [
       "<Figure size 432x288 with 1 Axes>"
      ]
     },
     "metadata": {
      "needs_background": "light"
     },
     "output_type": "display_data"
    }
   ],
   "source": [
    "# what is the monthly salary that is likely to have the loan accepted?\n",
    "b = sns.countplot(x='Monthly_Salary', data = dfSmote)\n",
    "\n",
    "for p in b.patches:\n",
    "    b.annotate(\"%.0f\" % p.get_height(), (p.get_x() + \n",
    "    p.get_width() / 2., p.get_height()), \n",
    "    ha='center', va='center', rotation=0, \n",
    "    xytext=(0, 18), textcoords='offset points')\n",
    "plt.savefig('aSMOTE_month_salary')"
   ]
  },
  {
   "cell_type": "code",
   "execution_count": 31,
   "metadata": {},
   "outputs": [
    {
     "data": {
      "image/png": "[encoded data removed]",
      "text/plain": [
       "<Figure size 472.625x360 with 1 Axes>"
      ]
     },
     "metadata": {
      "needs_background": "light"
     },
     "output_type": "display_data"
    }
   ],
   "source": [
    "# Count the number of customers by Decision and Employment_Type\n",
    "g = sns.catplot(x=\"Decision\", hue=\"Employment_Type\", kind=\"count\", data=dfSmote)\n",
    "\n",
    "ax = g.facet_axis(0,0)\n",
    "for p in ax.patches:\n",
    "    ax.annotate(format(p.get_height(), '.0f'), (p.get_x() + p.get_width() / 2., p.get_height()), ha = 'center', va = 'center', xytext = (0, 10), textcoords = 'offset points')\n",
    "plt.savefig('aSMOTE_dcs_employment')"
   ]
  },
  {
   "cell_type": "code",
   "execution_count": 32,
   "metadata": {},
   "outputs": [
    {
     "data": {
      "image/png": "[encoded data removed]",
      "text/plain": [
       "<Figure size 458.75x360 with 1 Axes>"
      ]
     },
     "metadata": {
      "needs_background": "light"
     },
     "output_type": "display_data"
    }
   ],
   "source": [
    "# Count the number of customers by Decision and Credit_Card_type\n",
    "g = sns.catplot(x=\"Decision\", hue=\"Credit_Card_types\", kind=\"count\", data=dfSmote)\n",
    "\n",
    "ax = g.facet_axis(0,0)\n",
    "for p in ax.patches:\n",
    "    ax.annotate(format(p.get_height(), '.0f'), (p.get_x() + p.get_width() / 2., p.get_height()), ha = 'center', va = 'center', xytext = (0, 10), textcoords = 'offset points')\n",
    "plt.savefig('aSMOTE_dcs_ccard_type')"
   ]
  },
  {
   "cell_type": "code",
   "execution_count": 33,
   "metadata": {},
   "outputs": [
    {
     "data": {
      "image/png": "[encoded data removed]",
      "text/plain": [
       "<Figure size 465.375x360 with 1 Axes>"
      ]
     },
     "metadata": {
      "needs_background": "light"
     },
     "output_type": "display_data"
    }
   ],
   "source": [
    "# Count the number of customers by Decision and Property_Type\n",
    "g = sns.catplot(x=\"Decision\", hue=\"Property_Type\", kind=\"count\", data=dfSmote)\n",
    "\n",
    "ax = g.facet_axis(0,0)\n",
    "for p in ax.patches:\n",
    "    ax.annotate(format(p.get_height(), '.0f'), (p.get_x() + p.get_width() / 2., p.get_height()), ha = 'center', va = 'center', xytext = (0, 10), textcoords = 'offset points')\n",
    "plt.savefig('aSMOTE_dcs_property')"
   ]
  },
  {
   "cell_type": "code",
   "execution_count": 35,
   "metadata": {},
   "outputs": [
    {
     "data": {
      "image/png": "[encoded data removed]",
      "text/plain": [
       "<Figure size 463.375x360 with 1 Axes>"
      ]
     },
     "metadata": {
      "needs_background": "light"
     },
     "output_type": "display_data"
    }
   ],
   "source": [
    "# Count the number of customers by Decision and Monthly_Salary\n",
    "g = sns.catplot(x=\"Decision\", hue=\"Monthly_Salary\", kind=\"count\", data=dfSmote)\n",
    "\n",
    "ax = g.facet_axis(0,0)\n",
    "for p in ax.patches:\n",
    "    ax.annotate(format(p.get_height(), '.0f'), (p.get_x() + p.get_width() / 2., p.get_height()), ha = 'center', va = 'center', xytext = (0, 10), textcoords = 'offset points')\n",
    "plt.savefig('aSMOTE_dcs_month_salary')"
   ]
  },
  {
   "cell_type": "code",
   "execution_count": 36,
   "metadata": {},
   "outputs": [
    {
     "data": {
      "image/png": "[encoded data removed]",
      "text/plain": [
       "<Figure size 432x288 with 1 Axes>"
      ]
     },
     "metadata": {
      "needs_background": "light"
     },
     "output_type": "display_data"
    }
   ],
   "source": [
    "# what is the decision made by the bank the most frequent?\n",
    "b = sns.countplot(x='Decision', data = dfSmote)\n",
    "\n",
    "for p in b.patches:\n",
    "    b.annotate(\"%.0f\" % p.get_height(), (p.get_x() + \n",
    "    p.get_width() / 2., p.get_height()), \n",
    "    ha='center', va='center', rotation=0, \n",
    "    xytext=(0, 18), textcoords='offset points')\n",
    "plt.savefig('aSMOTE_dcs_bank')"
   ]
  },
  {
   "cell_type": "code",
   "execution_count": 37,
   "metadata": {},
   "outputs": [
    {
     "data": {
      "text/html": [
       "<div>\n",
       "<style scoped>\n",
       "    .dataframe tbody tr th:only-of-type {\n",
       "        vertical-align: middle;\n",
       "    }\n",
       "\n",
       "    .dataframe tbody tr th {\n",
       "        vertical-align: top;\n",
       "    }\n",
       "\n",
       "    .dataframe thead th {\n",
       "        text-align: right;\n",
       "    }\n",
       "</style>\n",
       "<table border=\"1\" class=\"dataframe\">\n",
       "  <thead>\n",
       "    <tr style=\"text-align: right;\">\n",
       "      <th></th>\n",
       "      <th>Credit_Card_Exceed_Months</th>\n",
       "      <th>Employment_Type</th>\n",
       "      <th>Loan_Amount</th>\n",
       "      <th>Loan_Tenure_Year</th>\n",
       "      <th>More_Than_One_Products</th>\n",
       "      <th>Credit_Card_types</th>\n",
       "      <th>Number_of_Dependents</th>\n",
       "      <th>Years_to_Financial_Freedom</th>\n",
       "      <th>Number_of_Credit_Card_Facility</th>\n",
       "      <th>Number_of_Properties</th>\n",
       "      <th>...</th>\n",
       "      <th>Number_of_Loan_to_Approve</th>\n",
       "      <th>Property_Type</th>\n",
       "      <th>Years_for_Property_to_Completion</th>\n",
       "      <th>State</th>\n",
       "      <th>Number_of_Side_Income</th>\n",
       "      <th>Monthly_Salary</th>\n",
       "      <th>Total_Sum_of_Loan</th>\n",
       "      <th>Total_Income_for_Join_Application</th>\n",
       "      <th>Score</th>\n",
       "      <th>Decision</th>\n",
       "    </tr>\n",
       "  </thead>\n",
       "  <tbody>\n",
       "    <tr>\n",
       "      <th>0</th>\n",
       "      <td>1</td>\n",
       "      <td>Employer</td>\n",
       "      <td>500000-700000</td>\n",
       "      <td>16.0</td>\n",
       "      <td>yes</td>\n",
       "      <td>Platinum</td>\n",
       "      <td>2.0</td>\n",
       "      <td>5.0</td>\n",
       "      <td>2.0</td>\n",
       "      <td>2.0</td>\n",
       "      <td>...</td>\n",
       "      <td>1</td>\n",
       "      <td>Condominium</td>\n",
       "      <td>10.0</td>\n",
       "      <td>Johor</td>\n",
       "      <td>2.0</td>\n",
       "      <td>10000-13000</td>\n",
       "      <td>853141.0</td>\n",
       "      <td>16025.0</td>\n",
       "      <td>7</td>\n",
       "      <td>Reject</td>\n",
       "    </tr>\n",
       "    <tr>\n",
       "      <th>1</th>\n",
       "      <td>1</td>\n",
       "      <td>Employer</td>\n",
       "      <td>500000-700000</td>\n",
       "      <td>19.0</td>\n",
       "      <td>no</td>\n",
       "      <td>Normal</td>\n",
       "      <td>2.0</td>\n",
       "      <td>15.0</td>\n",
       "      <td>2.0</td>\n",
       "      <td>2.0</td>\n",
       "      <td>...</td>\n",
       "      <td>2</td>\n",
       "      <td>Condominium</td>\n",
       "      <td>10.0</td>\n",
       "      <td>Johor</td>\n",
       "      <td>2.0</td>\n",
       "      <td>7000-10000</td>\n",
       "      <td>882901.0</td>\n",
       "      <td>17082.0</td>\n",
       "      <td>9</td>\n",
       "      <td>Accept</td>\n",
       "    </tr>\n",
       "    <tr>\n",
       "      <th>2</th>\n",
       "      <td>1</td>\n",
       "      <td>Employer</td>\n",
       "      <td>500000-700000</td>\n",
       "      <td>22.0</td>\n",
       "      <td>yes</td>\n",
       "      <td>Normal</td>\n",
       "      <td>2.0</td>\n",
       "      <td>5.0</td>\n",
       "      <td>2.0</td>\n",
       "      <td>2.0</td>\n",
       "      <td>...</td>\n",
       "      <td>3</td>\n",
       "      <td>Condominium</td>\n",
       "      <td>10.0</td>\n",
       "      <td>Johor</td>\n",
       "      <td>3.0</td>\n",
       "      <td>4000-7000</td>\n",
       "      <td>540489.0</td>\n",
       "      <td>12613.0</td>\n",
       "      <td>8</td>\n",
       "      <td>Reject</td>\n",
       "    </tr>\n",
       "    <tr>\n",
       "      <th>3</th>\n",
       "      <td>1</td>\n",
       "      <td>Employer</td>\n",
       "      <td>300000-500000</td>\n",
       "      <td>22.0</td>\n",
       "      <td>no</td>\n",
       "      <td>Normal</td>\n",
       "      <td>2.0</td>\n",
       "      <td>5.0</td>\n",
       "      <td>4.0</td>\n",
       "      <td>2.0</td>\n",
       "      <td>...</td>\n",
       "      <td>1</td>\n",
       "      <td>Condominium</td>\n",
       "      <td>10.0</td>\n",
       "      <td>Johor</td>\n",
       "      <td>3.0</td>\n",
       "      <td>4000-7000</td>\n",
       "      <td>536727.0</td>\n",
       "      <td>10952.0</td>\n",
       "      <td>9</td>\n",
       "      <td>Accept</td>\n",
       "    </tr>\n",
       "    <tr>\n",
       "      <th>4</th>\n",
       "      <td>1</td>\n",
       "      <td>Employer</td>\n",
       "      <td>100000-300000</td>\n",
       "      <td>14.0</td>\n",
       "      <td>yes</td>\n",
       "      <td>Normal</td>\n",
       "      <td>2.0</td>\n",
       "      <td>5.0</td>\n",
       "      <td>2.0</td>\n",
       "      <td>2.0</td>\n",
       "      <td>...</td>\n",
       "      <td>2</td>\n",
       "      <td>Condominium</td>\n",
       "      <td>10.0</td>\n",
       "      <td>Johor</td>\n",
       "      <td>3.0</td>\n",
       "      <td>4000-7000</td>\n",
       "      <td>774695.0</td>\n",
       "      <td>9532.0</td>\n",
       "      <td>8</td>\n",
       "      <td>Reject</td>\n",
       "    </tr>\n",
       "  </tbody>\n",
       "</table>\n",
       "<p>5 rows × 21 columns</p>\n",
       "</div>"
      ],
      "text/plain": [
       "   Credit_Card_Exceed_Months Employment_Type    Loan_Amount  Loan_Tenure_Year  \\\n",
       "0                          1        Employer  500000-700000              16.0   \n",
       "1                          1        Employer  500000-700000              19.0   \n",
       "2                          1        Employer  500000-700000              22.0   \n",
       "3                          1        Employer  300000-500000              22.0   \n",
       "4                          1        Employer  100000-300000              14.0   \n",
       "\n",
       "  More_Than_One_Products Credit_Card_types  Number_of_Dependents  \\\n",
       "0                    yes          Platinum                   2.0   \n",
       "1                     no            Normal                   2.0   \n",
       "2                    yes            Normal                   2.0   \n",
       "3                     no            Normal                   2.0   \n",
       "4                    yes            Normal                   2.0   \n",
       "\n",
       "   Years_to_Financial_Freedom  Number_of_Credit_Card_Facility  \\\n",
       "0                         5.0                             2.0   \n",
       "1                        15.0                             2.0   \n",
       "2                         5.0                             2.0   \n",
       "3                         5.0                             4.0   \n",
       "4                         5.0                             2.0   \n",
       "\n",
       "   Number_of_Properties  ...  Number_of_Loan_to_Approve  Property_Type  \\\n",
       "0                   2.0  ...                          1    Condominium   \n",
       "1                   2.0  ...                          2    Condominium   \n",
       "2                   2.0  ...                          3    Condominium   \n",
       "3                   2.0  ...                          1    Condominium   \n",
       "4                   2.0  ...                          2    Condominium   \n",
       "\n",
       "  Years_for_Property_to_Completion  State Number_of_Side_Income  \\\n",
       "0                             10.0  Johor                   2.0   \n",
       "1                             10.0  Johor                   2.0   \n",
       "2                             10.0  Johor                   3.0   \n",
       "3                             10.0  Johor                   3.0   \n",
       "4                             10.0  Johor                   3.0   \n",
       "\n",
       "   Monthly_Salary Total_Sum_of_Loan  Total_Income_for_Join_Application  Score  \\\n",
       "0     10000-13000          853141.0                            16025.0      7   \n",
       "1      7000-10000          882901.0                            17082.0      9   \n",
       "2       4000-7000          540489.0                            12613.0      8   \n",
       "3       4000-7000          536727.0                            10952.0      9   \n",
       "4       4000-7000          774695.0                             9532.0      8   \n",
       "\n",
       "   Decision  \n",
       "0    Reject  \n",
       "1    Accept  \n",
       "2    Reject  \n",
       "3    Accept  \n",
       "4    Reject  \n",
       "\n",
       "[5 rows x 21 columns]"
      ]
     },
     "execution_count": 37,
     "metadata": {},
     "output_type": "execute_result"
    }
   ],
   "source": [
    "dfSmote.head()\n"
   ]
  },
  {
   "cell_type": "markdown",
   "metadata": {},
   "source": [
    "#### Feature Selection"
   ]
  },
  {
   "cell_type": "code",
   "execution_count": 38,
   "metadata": {},
   "outputs": [],
   "source": [
    "def ranking(ranks, names, order=1):\n",
    "    minmax = MinMaxScaler()\n",
    "    ranks = minmax.fit_transform(order*np.array([ranks]).T).T[0]\n",
    "    ranks = map(lambda x: round(x,2), ranks)\n",
    "    return dict(zip(names, ranks))"
   ]
  },
  {
   "cell_type": "markdown",
   "metadata": {},
   "source": [
    "#### Boruta"
   ]
  },
  {
   "cell_type": "code",
   "execution_count": 39,
   "metadata": {},
   "outputs": [],
   "source": [
    "rf = RandomForestClassifier(n_jobs=-1, class_weight=\"balanced\", max_depth=5, random_state=1)\n",
    "feat_selector = BorutaPy(rf, n_estimators=\"auto\", random_state=1)\n",
    "feat_selector.fit(X_res.values, y_res.values.ravel())\n",
    "\n",
    "boruta_score = ranking(list(map(float, feat_selector.ranking_)), colnames, order=-1)\n",
    "boruta_score = pd.DataFrame(list(boruta_score.items()), columns=['Features', 'Score'])\n",
    "boruta_score = boruta_score.sort_values(\"Score\", ascending = False)"
   ]
  },
  {
   "cell_type": "code",
   "execution_count": 40,
   "metadata": {},
   "outputs": [
    {
     "name": "stdout",
     "output_type": "stream",
     "text": [
      "---------Top 10----------\n"
     ]
    },
    {
     "data": {
      "text/html": [
       "<div>\n",
       "<style scoped>\n",
       "    .dataframe tbody tr th:only-of-type {\n",
       "        vertical-align: middle;\n",
       "    }\n",
       "\n",
       "    .dataframe tbody tr th {\n",
       "        vertical-align: top;\n",
       "    }\n",
       "\n",
       "    .dataframe thead th {\n",
       "        text-align: right;\n",
       "    }\n",
       "</style>\n",
       "<table border=\"1\" class=\"dataframe\">\n",
       "  <thead>\n",
       "    <tr style=\"text-align: right;\">\n",
       "      <th></th>\n",
       "      <th>Features</th>\n",
       "      <th>Score</th>\n",
       "    </tr>\n",
       "  </thead>\n",
       "  <tbody>\n",
       "    <tr>\n",
       "      <th>0</th>\n",
       "      <td>Credit_Card_Exceed_Months</td>\n",
       "      <td>1.0</td>\n",
       "    </tr>\n",
       "    <tr>\n",
       "      <th>1</th>\n",
       "      <td>Employment_Type</td>\n",
       "      <td>1.0</td>\n",
       "    </tr>\n",
       "    <tr>\n",
       "      <th>18</th>\n",
       "      <td>Total_Income_for_Join_Application</td>\n",
       "      <td>1.0</td>\n",
       "    </tr>\n",
       "    <tr>\n",
       "      <th>17</th>\n",
       "      <td>Total_Sum_of_Loan</td>\n",
       "      <td>1.0</td>\n",
       "    </tr>\n",
       "    <tr>\n",
       "      <th>16</th>\n",
       "      <td>Monthly_Salary</td>\n",
       "      <td>1.0</td>\n",
       "    </tr>\n",
       "    <tr>\n",
       "      <th>15</th>\n",
       "      <td>Number_of_Side_Income</td>\n",
       "      <td>1.0</td>\n",
       "    </tr>\n",
       "    <tr>\n",
       "      <th>14</th>\n",
       "      <td>State</td>\n",
       "      <td>1.0</td>\n",
       "    </tr>\n",
       "    <tr>\n",
       "      <th>13</th>\n",
       "      <td>Years_for_Property_to_Completion</td>\n",
       "      <td>1.0</td>\n",
       "    </tr>\n",
       "    <tr>\n",
       "      <th>12</th>\n",
       "      <td>Property_Type</td>\n",
       "      <td>1.0</td>\n",
       "    </tr>\n",
       "    <tr>\n",
       "      <th>11</th>\n",
       "      <td>Number_of_Loan_to_Approve</td>\n",
       "      <td>1.0</td>\n",
       "    </tr>\n",
       "  </tbody>\n",
       "</table>\n",
       "</div>"
      ],
      "text/plain": [
       "                             Features  Score\n",
       "0           Credit_Card_Exceed_Months    1.0\n",
       "1                     Employment_Type    1.0\n",
       "18  Total_Income_for_Join_Application    1.0\n",
       "17                  Total_Sum_of_Loan    1.0\n",
       "16                     Monthly_Salary    1.0\n",
       "15              Number_of_Side_Income    1.0\n",
       "14                              State    1.0\n",
       "13   Years_for_Property_to_Completion    1.0\n",
       "12                      Property_Type    1.0\n",
       "11          Number_of_Loan_to_Approve    1.0"
      ]
     },
     "metadata": {},
     "output_type": "display_data"
    },
    {
     "name": "stdout",
     "output_type": "stream",
     "text": [
      "---------Bottom 10----------\n"
     ]
    },
    {
     "data": {
      "text/html": [
       "<div>\n",
       "<style scoped>\n",
       "    .dataframe tbody tr th:only-of-type {\n",
       "        vertical-align: middle;\n",
       "    }\n",
       "\n",
       "    .dataframe tbody tr th {\n",
       "        vertical-align: top;\n",
       "    }\n",
       "\n",
       "    .dataframe thead th {\n",
       "        text-align: right;\n",
       "    }\n",
       "</style>\n",
       "<table border=\"1\" class=\"dataframe\">\n",
       "  <thead>\n",
       "    <tr style=\"text-align: right;\">\n",
       "      <th></th>\n",
       "      <th>Features</th>\n",
       "      <th>Score</th>\n",
       "    </tr>\n",
       "  </thead>\n",
       "  <tbody>\n",
       "    <tr>\n",
       "      <th>10</th>\n",
       "      <td>Number_of_Bank_Products</td>\n",
       "      <td>1.0</td>\n",
       "    </tr>\n",
       "    <tr>\n",
       "      <th>8</th>\n",
       "      <td>Number_of_Credit_Card_Facility</td>\n",
       "      <td>1.0</td>\n",
       "    </tr>\n",
       "    <tr>\n",
       "      <th>7</th>\n",
       "      <td>Years_to_Financial_Freedom</td>\n",
       "      <td>1.0</td>\n",
       "    </tr>\n",
       "    <tr>\n",
       "      <th>6</th>\n",
       "      <td>Number_of_Dependents</td>\n",
       "      <td>1.0</td>\n",
       "    </tr>\n",
       "    <tr>\n",
       "      <th>5</th>\n",
       "      <td>Credit_Card_types</td>\n",
       "      <td>1.0</td>\n",
       "    </tr>\n",
       "    <tr>\n",
       "      <th>4</th>\n",
       "      <td>More_Than_One_Products</td>\n",
       "      <td>1.0</td>\n",
       "    </tr>\n",
       "    <tr>\n",
       "      <th>3</th>\n",
       "      <td>Loan_Tenure_Year</td>\n",
       "      <td>1.0</td>\n",
       "    </tr>\n",
       "    <tr>\n",
       "      <th>19</th>\n",
       "      <td>Score</td>\n",
       "      <td>1.0</td>\n",
       "    </tr>\n",
       "    <tr>\n",
       "      <th>2</th>\n",
       "      <td>Loan_Amount</td>\n",
       "      <td>0.5</td>\n",
       "    </tr>\n",
       "    <tr>\n",
       "      <th>9</th>\n",
       "      <td>Number_of_Properties</td>\n",
       "      <td>0.0</td>\n",
       "    </tr>\n",
       "  </tbody>\n",
       "</table>\n",
       "</div>"
      ],
      "text/plain": [
       "                          Features  Score\n",
       "10         Number_of_Bank_Products    1.0\n",
       "8   Number_of_Credit_Card_Facility    1.0\n",
       "7       Years_to_Financial_Freedom    1.0\n",
       "6             Number_of_Dependents    1.0\n",
       "5                Credit_Card_types    1.0\n",
       "4           More_Than_One_Products    1.0\n",
       "3                 Loan_Tenure_Year    1.0\n",
       "19                           Score    1.0\n",
       "2                      Loan_Amount    0.5\n",
       "9             Number_of_Properties    0.0"
      ]
     },
     "execution_count": 40,
     "metadata": {},
     "output_type": "execute_result"
    }
   ],
   "source": [
    "print('---------Top 10----------')\n",
    "display(boruta_score.head(10))\n",
    "\n",
    "print('---------Bottom 10----------')\n",
    "boruta_score.tail(10)"
   ]
  },
  {
   "cell_type": "markdown",
   "metadata": {},
   "source": [
    "#### RFE"
   ]
  },
  {
   "cell_type": "code",
   "execution_count": 41,
   "metadata": {},
   "outputs": [
    {
     "data": {
      "text/plain": [
       "RFECV(cv=3,\n",
       "      estimator=RandomForestClassifier(class_weight='balanced', max_depth=5,\n",
       "                                       n_jobs=-1, random_state=1))"
      ]
     },
     "execution_count": 41,
     "metadata": {},
     "output_type": "execute_result"
    }
   ],
   "source": [
    "rf2 = RandomForestClassifier(n_jobs=-1, class_weight=\"balanced\", max_depth = 5, n_estimators = 100, random_state=1)\n",
    "rf2.fit(X_res,y_res)\n",
    "rfe = RFECV(rf2, min_features_to_select = 1, cv = 3)\n",
    "rfe.fit(X_res,y_res)"
   ]
  },
  {
   "cell_type": "code",
   "execution_count": 42,
   "metadata": {},
   "outputs": [],
   "source": [
    "rfe_score = ranking(list(map(float, rfe.ranking_)), colnames, order=-1)\n",
    "rfe_score = pd.DataFrame(list(rfe_score.items()), columns=['Features', 'Score'])\n",
    "rfe_score = rfe_score.sort_values(\"Score\", ascending = False)"
   ]
  },
  {
   "cell_type": "code",
   "execution_count": 43,
   "metadata": {},
   "outputs": [
    {
     "name": "stdout",
     "output_type": "stream",
     "text": [
      "---------Top 10----------\n"
     ]
    },
    {
     "data": {
      "text/html": [
       "<div>\n",
       "<style scoped>\n",
       "    .dataframe tbody tr th:only-of-type {\n",
       "        vertical-align: middle;\n",
       "    }\n",
       "\n",
       "    .dataframe tbody tr th {\n",
       "        vertical-align: top;\n",
       "    }\n",
       "\n",
       "    .dataframe thead th {\n",
       "        text-align: right;\n",
       "    }\n",
       "</style>\n",
       "<table border=\"1\" class=\"dataframe\">\n",
       "  <thead>\n",
       "    <tr style=\"text-align: right;\">\n",
       "      <th></th>\n",
       "      <th>Features</th>\n",
       "      <th>Score</th>\n",
       "    </tr>\n",
       "  </thead>\n",
       "  <tbody>\n",
       "    <tr>\n",
       "      <th>3</th>\n",
       "      <td>Loan_Tenure_Year</td>\n",
       "      <td>1.00</td>\n",
       "    </tr>\n",
       "    <tr>\n",
       "      <th>14</th>\n",
       "      <td>State</td>\n",
       "      <td>0.95</td>\n",
       "    </tr>\n",
       "    <tr>\n",
       "      <th>15</th>\n",
       "      <td>Number_of_Side_Income</td>\n",
       "      <td>0.89</td>\n",
       "    </tr>\n",
       "    <tr>\n",
       "      <th>12</th>\n",
       "      <td>Property_Type</td>\n",
       "      <td>0.84</td>\n",
       "    </tr>\n",
       "    <tr>\n",
       "      <th>19</th>\n",
       "      <td>Score</td>\n",
       "      <td>0.79</td>\n",
       "    </tr>\n",
       "    <tr>\n",
       "      <th>11</th>\n",
       "      <td>Number_of_Loan_to_Approve</td>\n",
       "      <td>0.74</td>\n",
       "    </tr>\n",
       "    <tr>\n",
       "      <th>4</th>\n",
       "      <td>More_Than_One_Products</td>\n",
       "      <td>0.68</td>\n",
       "    </tr>\n",
       "    <tr>\n",
       "      <th>5</th>\n",
       "      <td>Credit_Card_types</td>\n",
       "      <td>0.63</td>\n",
       "    </tr>\n",
       "    <tr>\n",
       "      <th>0</th>\n",
       "      <td>Credit_Card_Exceed_Months</td>\n",
       "      <td>0.58</td>\n",
       "    </tr>\n",
       "    <tr>\n",
       "      <th>16</th>\n",
       "      <td>Monthly_Salary</td>\n",
       "      <td>0.53</td>\n",
       "    </tr>\n",
       "  </tbody>\n",
       "</table>\n",
       "</div>"
      ],
      "text/plain": [
       "                     Features  Score\n",
       "3            Loan_Tenure_Year   1.00\n",
       "14                      State   0.95\n",
       "15      Number_of_Side_Income   0.89\n",
       "12              Property_Type   0.84\n",
       "19                      Score   0.79\n",
       "11  Number_of_Loan_to_Approve   0.74\n",
       "4      More_Than_One_Products   0.68\n",
       "5           Credit_Card_types   0.63\n",
       "0   Credit_Card_Exceed_Months   0.58\n",
       "16             Monthly_Salary   0.53"
      ]
     },
     "metadata": {},
     "output_type": "display_data"
    },
    {
     "name": "stdout",
     "output_type": "stream",
     "text": [
      "---------Bottom 10----------\n"
     ]
    },
    {
     "data": {
      "text/html": [
       "<div>\n",
       "<style scoped>\n",
       "    .dataframe tbody tr th:only-of-type {\n",
       "        vertical-align: middle;\n",
       "    }\n",
       "\n",
       "    .dataframe tbody tr th {\n",
       "        vertical-align: top;\n",
       "    }\n",
       "\n",
       "    .dataframe thead th {\n",
       "        text-align: right;\n",
       "    }\n",
       "</style>\n",
       "<table border=\"1\" class=\"dataframe\">\n",
       "  <thead>\n",
       "    <tr style=\"text-align: right;\">\n",
       "      <th></th>\n",
       "      <th>Features</th>\n",
       "      <th>Score</th>\n",
       "    </tr>\n",
       "  </thead>\n",
       "  <tbody>\n",
       "    <tr>\n",
       "      <th>17</th>\n",
       "      <td>Total_Sum_of_Loan</td>\n",
       "      <td>0.47</td>\n",
       "    </tr>\n",
       "    <tr>\n",
       "      <th>7</th>\n",
       "      <td>Years_to_Financial_Freedom</td>\n",
       "      <td>0.42</td>\n",
       "    </tr>\n",
       "    <tr>\n",
       "      <th>1</th>\n",
       "      <td>Employment_Type</td>\n",
       "      <td>0.37</td>\n",
       "    </tr>\n",
       "    <tr>\n",
       "      <th>8</th>\n",
       "      <td>Number_of_Credit_Card_Facility</td>\n",
       "      <td>0.32</td>\n",
       "    </tr>\n",
       "    <tr>\n",
       "      <th>10</th>\n",
       "      <td>Number_of_Bank_Products</td>\n",
       "      <td>0.26</td>\n",
       "    </tr>\n",
       "    <tr>\n",
       "      <th>18</th>\n",
       "      <td>Total_Income_for_Join_Application</td>\n",
       "      <td>0.21</td>\n",
       "    </tr>\n",
       "    <tr>\n",
       "      <th>13</th>\n",
       "      <td>Years_for_Property_to_Completion</td>\n",
       "      <td>0.16</td>\n",
       "    </tr>\n",
       "    <tr>\n",
       "      <th>6</th>\n",
       "      <td>Number_of_Dependents</td>\n",
       "      <td>0.11</td>\n",
       "    </tr>\n",
       "    <tr>\n",
       "      <th>2</th>\n",
       "      <td>Loan_Amount</td>\n",
       "      <td>0.05</td>\n",
       "    </tr>\n",
       "    <tr>\n",
       "      <th>9</th>\n",
       "      <td>Number_of_Properties</td>\n",
       "      <td>0.00</td>\n",
       "    </tr>\n",
       "  </tbody>\n",
       "</table>\n",
       "</div>"
      ],
      "text/plain": [
       "                             Features  Score\n",
       "17                  Total_Sum_of_Loan   0.47\n",
       "7          Years_to_Financial_Freedom   0.42\n",
       "1                     Employment_Type   0.37\n",
       "8      Number_of_Credit_Card_Facility   0.32\n",
       "10            Number_of_Bank_Products   0.26\n",
       "18  Total_Income_for_Join_Application   0.21\n",
       "13   Years_for_Property_to_Completion   0.16\n",
       "6                Number_of_Dependents   0.11\n",
       "2                         Loan_Amount   0.05\n",
       "9                Number_of_Properties   0.00"
      ]
     },
     "execution_count": 43,
     "metadata": {},
     "output_type": "execute_result"
    }
   ],
   "source": [
    "print('---------Top 10----------')\n",
    "display(rfe_score.head(10))\n",
    "\n",
    "print('---------Bottom 10----------')\n",
    "rfe_score.tail(10)"
   ]
  },
  {
   "cell_type": "markdown",
   "metadata": {},
   "source": [
    "#### Remove the feature with low ranking"
   ]
  },
  {
   "cell_type": "code",
   "execution_count": 44,
   "metadata": {},
   "outputs": [],
   "source": [
    "X_res.drop(columns=[\"Number_of_Properties\",\"Loan_Amount\"], axis=1, inplace=True)"
   ]
  },
  {
   "cell_type": "markdown",
   "metadata": {},
   "source": [
    "#### Association Rule Mining"
   ]
  },
  {
   "cell_type": "code",
   "execution_count": 45,
   "metadata": {},
   "outputs": [],
   "source": [
    "df4 = df3.copy()\n",
    "df4.drop(axis= 1, inplace = True, columns = ['Employment_Type', 'Credit_Card_types','Property_Type','Monthly_Salary','Loan_Amount'])\n",
    "df4 = df4.apply(lambda x: dictionary[x.name].inverse_transform(x))\n",
    "df4_dummy = pd.get_dummies(df4)"
   ]
  },
  {
   "cell_type": "code",
   "execution_count": 46,
   "metadata": {},
   "outputs": [
    {
     "ename": "ValueError",
     "evalue": "The allowed values for a DataFrame are True, False, 0, 1. Found value 16.0",
     "output_type": "error",
     "traceback": [
      "\u001b[1;31m---------------------------------------------------------------------------\u001b[0m",
      "\u001b[1;31mValueError\u001b[0m                                Traceback (most recent call last)",
      "\u001b[1;32m<ipython-input-46-d6322a7f1243>\u001b[0m in \u001b[0;36m<module>\u001b[1;34m\u001b[0m\n\u001b[1;32m----> 1\u001b[1;33m \u001b[0mfrequent\u001b[0m \u001b[1;33m=\u001b[0m \u001b[0mapriori\u001b[0m\u001b[1;33m(\u001b[0m\u001b[0mdf4_dummy\u001b[0m\u001b[1;33m,\u001b[0m \u001b[0mmin_support\u001b[0m\u001b[1;33m=\u001b[0m\u001b[1;36m0.5\u001b[0m\u001b[1;33m,\u001b[0m \u001b[0muse_colnames\u001b[0m\u001b[1;33m=\u001b[0m\u001b[1;32mTrue\u001b[0m\u001b[1;33m)\u001b[0m\u001b[1;33m\u001b[0m\u001b[1;33m\u001b[0m\u001b[0m\n\u001b[0m\u001b[0;32m      2\u001b[0m \u001b[0mrules\u001b[0m \u001b[1;33m=\u001b[0m \u001b[0massociation_rules\u001b[0m\u001b[1;33m(\u001b[0m\u001b[0mfrequent\u001b[0m\u001b[1;33m,\u001b[0m \u001b[0mmetric\u001b[0m\u001b[1;33m=\u001b[0m\u001b[1;34m\"lift\"\u001b[0m\u001b[1;33m,\u001b[0m \u001b[0mmin_threshold\u001b[0m\u001b[1;33m=\u001b[0m\u001b[1;36m1.0\u001b[0m\u001b[1;33m)\u001b[0m\u001b[1;33m\u001b[0m\u001b[1;33m\u001b[0m\u001b[0m\n\u001b[0;32m      3\u001b[0m \u001b[0mrules\u001b[0m\u001b[1;33m[\u001b[0m\u001b[1;34m\"antecedent_len\"\u001b[0m\u001b[1;33m]\u001b[0m \u001b[1;33m=\u001b[0m \u001b[0mrules\u001b[0m\u001b[1;33m[\u001b[0m\u001b[1;34m\"antecedents\"\u001b[0m\u001b[1;33m]\u001b[0m\u001b[1;33m.\u001b[0m\u001b[0mapply\u001b[0m\u001b[1;33m(\u001b[0m\u001b[1;32mlambda\u001b[0m \u001b[0mx\u001b[0m\u001b[1;33m:\u001b[0m \u001b[0mlen\u001b[0m\u001b[1;33m(\u001b[0m\u001b[0mx\u001b[0m\u001b[1;33m)\u001b[0m\u001b[1;33m)\u001b[0m\u001b[1;33m\u001b[0m\u001b[1;33m\u001b[0m\u001b[0m\n\u001b[0;32m      4\u001b[0m \u001b[0mrules\u001b[0m\u001b[1;33m[\u001b[0m\u001b[1;34m\"consequent_len\"\u001b[0m\u001b[1;33m]\u001b[0m \u001b[1;33m=\u001b[0m \u001b[0mrules\u001b[0m\u001b[1;33m[\u001b[0m\u001b[1;34m\"consequents\"\u001b[0m\u001b[1;33m]\u001b[0m\u001b[1;33m.\u001b[0m\u001b[0mapply\u001b[0m\u001b[1;33m(\u001b[0m\u001b[1;32mlambda\u001b[0m \u001b[0mx\u001b[0m\u001b[1;33m:\u001b[0m \u001b[0mlen\u001b[0m\u001b[1;33m(\u001b[0m\u001b[0mx\u001b[0m\u001b[1;33m)\u001b[0m\u001b[1;33m)\u001b[0m\u001b[1;33m\u001b[0m\u001b[1;33m\u001b[0m\u001b[0m\n\u001b[0;32m      5\u001b[0m \u001b[0mrules\u001b[0m\u001b[1;33m[\u001b[0m\u001b[1;33m(\u001b[0m\u001b[0mrules\u001b[0m\u001b[1;33m[\u001b[0m\u001b[1;34m'confidence'\u001b[0m\u001b[1;33m]\u001b[0m \u001b[1;33m>\u001b[0m \u001b[1;36m0.5\u001b[0m\u001b[1;33m)\u001b[0m \u001b[1;33m&\u001b[0m \u001b[1;33m(\u001b[0m\u001b[0mrules\u001b[0m\u001b[1;33m[\u001b[0m\u001b[1;34m'antecedent_len'\u001b[0m\u001b[1;33m]\u001b[0m \u001b[1;33m<=\u001b[0m \u001b[1;36m2\u001b[0m\u001b[1;33m)\u001b[0m \u001b[1;33m&\u001b[0m \u001b[1;33m(\u001b[0m\u001b[0mrules\u001b[0m\u001b[1;33m[\u001b[0m\u001b[1;34m'consequent_len'\u001b[0m\u001b[1;33m]\u001b[0m \u001b[1;33m<=\u001b[0m \u001b[1;36m2\u001b[0m\u001b[1;33m)\u001b[0m\u001b[1;33m]\u001b[0m\u001b[1;33m.\u001b[0m\u001b[0mnlargest\u001b[0m\u001b[1;33m(\u001b[0m\u001b[1;36m10\u001b[0m\u001b[1;33m,\u001b[0m \u001b[1;34m'lift'\u001b[0m\u001b[1;33m)\u001b[0m\u001b[1;33m\u001b[0m\u001b[1;33m\u001b[0m\u001b[0m\n",
      "\u001b[1;32m~\\anaconda3\\lib\\site-packages\\mlxtend\\frequent_patterns\\apriori.py\u001b[0m in \u001b[0;36mapriori\u001b[1;34m(df, min_support, use_colnames, max_len, verbose, low_memory)\u001b[0m\n\u001b[0;32m    236\u001b[0m                          'Got %s.' % min_support)\n\u001b[0;32m    237\u001b[0m \u001b[1;33m\u001b[0m\u001b[0m\n\u001b[1;32m--> 238\u001b[1;33m     \u001b[0mfpc\u001b[0m\u001b[1;33m.\u001b[0m\u001b[0mvalid_input_check\u001b[0m\u001b[1;33m(\u001b[0m\u001b[0mdf\u001b[0m\u001b[1;33m)\u001b[0m\u001b[1;33m\u001b[0m\u001b[1;33m\u001b[0m\u001b[0m\n\u001b[0m\u001b[0;32m    239\u001b[0m \u001b[1;33m\u001b[0m\u001b[0m\n\u001b[0;32m    240\u001b[0m     \u001b[1;32mif\u001b[0m \u001b[0mhasattr\u001b[0m\u001b[1;33m(\u001b[0m\u001b[0mdf\u001b[0m\u001b[1;33m,\u001b[0m \u001b[1;34m\"sparse\"\u001b[0m\u001b[1;33m)\u001b[0m\u001b[1;33m:\u001b[0m\u001b[1;33m\u001b[0m\u001b[1;33m\u001b[0m\u001b[0m\n",
      "\u001b[1;32m~\\anaconda3\\lib\\site-packages\\mlxtend\\frequent_patterns\\fpcommon.py\u001b[0m in \u001b[0;36mvalid_input_check\u001b[1;34m(df)\u001b[0m\n\u001b[0;32m    114\u001b[0m             s = ('The allowed values for a DataFrame'\n\u001b[0;32m    115\u001b[0m                  ' are True, False, 0, 1. Found value %s' % (val))\n\u001b[1;32m--> 116\u001b[1;33m             \u001b[1;32mraise\u001b[0m \u001b[0mValueError\u001b[0m\u001b[1;33m(\u001b[0m\u001b[0ms\u001b[0m\u001b[1;33m)\u001b[0m\u001b[1;33m\u001b[0m\u001b[1;33m\u001b[0m\u001b[0m\n\u001b[0m\u001b[0;32m    117\u001b[0m \u001b[1;33m\u001b[0m\u001b[0m\n\u001b[0;32m    118\u001b[0m \u001b[1;33m\u001b[0m\u001b[0m\n",
      "\u001b[1;31mValueError\u001b[0m: The allowed values for a DataFrame are True, False, 0, 1. Found value 16.0"
     ]
    }
   ],
   "source": [
    "frequent = apriori(df4_dummy, min_support=0.5, use_colnames=True)\n",
    "rules = association_rules(frequent, metric=\"lift\", min_threshold=1.0)\n",
    "rules[\"antecedent_len\"] = rules[\"antecedents\"].apply(lambda x: len(x))\n",
    "rules[\"consequent_len\"] = rules[\"consequents\"].apply(lambda x: len(x))\n",
    "rules[(rules['confidence'] > 0.5) & (rules['antecedent_len'] <= 2) & (rules['consequent_len'] <= 2)].nlargest(10, 'lift')"
   ]
  },
  {
   "cell_type": "markdown",
   "metadata": {},
   "source": [
    "#### Machine Learning Techniques"
   ]
  },
  {
   "cell_type": "markdown",
   "metadata": {},
   "source": [
    "##### Support Vector Machine (SVM)"
   ]
  },
  {
   "cell_type": "code",
   "execution_count": null,
   "metadata": {},
   "outputs": [],
   "source": [
    "X_train, X_test, y_train, y_test = train_test_split(X_res, y_res, test_size=0.3,random_state=1)"
   ]
  },
  {
   "cell_type": "code",
   "execution_count": null,
   "metadata": {},
   "outputs": [],
   "source": [
    "kernels = ['linear', 'rbf', 'poly']\n",
    "\n",
    "for kernel in kernels:\n",
    "    print(\"Kernel: \" + str(kernel))\n",
    "    clf = svm.SVC(kernel=kernel, gamma='auto', random_state = 1, probability=True)\n",
    "\n",
    "    #Train the model using the training sets\n",
    "    clf.fit(X_train, y_train)\n",
    "\n",
    "    #Predict the response for test dataset\n",
    "    y_pred = clf.predict(X_test)\n",
    "    \n",
    "    if (kernel == 'rbf'):\n",
    "        f1_svm = metrics.f1_score(y_test, y_pred)\n",
    "\n",
    "    print(\"Accuracy:\",metrics.accuracy_score(y_test, y_pred))\n",
    "    print(\"Precision:\",metrics.precision_score(y_test, y_pred))\n",
    "    print(\"Recall:\",metrics.recall_score(y_test, y_pred))\n",
    "    print(\"F1:\",metrics.f1_score(y_test, y_pred))\n",
    "    print(\"\\n\")"
   ]
  },
  {
   "cell_type": "markdown",
   "metadata": {},
   "source": [
    "##### K-Nearest Neighbour"
   ]
  },
  {
   "cell_type": "code",
   "execution_count": null,
   "metadata": {},
   "outputs": [],
   "source": [
    "k_range = range(1,10)\n",
    "scores = []\n",
    "\n",
    "for k in k_range:\n",
    "    print(\"Number of K: \" + str(k))\n",
    "    knn = KNeighborsClassifier(n_neighbors = k, weights='uniform')\n",
    "    knn.fit(X_train, y_train)\n",
    "    scores.append(knn.score(X_test, y_test))\n",
    "    y_pred = knn.predict(X_test)\n",
    "    \n",
    "    if (k == 3):\n",
    "        f1_knn = metrics.f1_score(y_test, y_pred)\n",
    "        \n",
    "    print(\"Accuracy:\",metrics.accuracy_score(y_test, y_pred))\n",
    "    print(\"Precision:\",metrics.precision_score(y_test, y_pred))\n",
    "    print(\"Recall:\",metrics.recall_score(y_test, y_pred))\n",
    "    print(\"F1:\",metrics.f1_score(y_test, y_pred))\n",
    "    print(\"\\n\")\n",
    "    \n",
    "plt.figure()\n",
    "plt.xlabel('k')\n",
    "plt.ylabel('accuracy')\n",
    "plt.title('Accuracy by n_neigbors')\n",
    "plt.scatter(k_range, scores)\n",
    "plt.plot(k_range, scores, color='green', linestyle='dashed', linewidth=1, markersize=5)"
   ]
  },
  {
   "cell_type": "markdown",
   "metadata": {},
   "source": [
    "##### Naive Bayes"
   ]
  },
  {
   "cell_type": "code",
   "execution_count": null,
   "metadata": {},
   "outputs": [],
   "source": [
    "nb = GaussianNB()\n",
    "nb.fit(X_train, y_train)\n",
    "y_pred = nb.predict(X_test)"
   ]
  },
  {
   "cell_type": "code",
   "execution_count": null,
   "metadata": {},
   "outputs": [],
   "source": [
    "f1_nb = metrics.f1_score(y_test, y_pred)\n",
    "\n",
    "print(\"Accuracy:\",metrics.accuracy_score(y_test, y_pred))\n",
    "print(\"Precision:\",metrics.precision_score(y_test, y_pred))\n",
    "print(\"Recall:\",metrics.recall_score(y_test, y_pred))\n",
    "print(\"F1:\",metrics.f1_score(y_test, y_pred))"
   ]
  },
  {
   "cell_type": "markdown",
   "metadata": {},
   "source": [
    "##### Decision Tree Classifier"
   ]
  },
  {
   "cell_type": "code",
   "execution_count": null,
   "metadata": {},
   "outputs": [],
   "source": [
    "dt = DecisionTreeClassifier(random_state=1)\n",
    "dt = dt.fit(X_train, y_train)\n",
    "y_pred = dt.predict(X_test)"
   ]
  },
  {
   "cell_type": "code",
   "execution_count": null,
   "metadata": {},
   "outputs": [],
   "source": [
    "f1_dt = metrics.f1_score(y_test, y_pred)\n",
    "\n",
    "print(\"Accuracy:\",metrics.accuracy_score(y_test, y_pred))\n",
    "print(\"Precision:\",metrics.precision_score(y_test, y_pred))\n",
    "print(\"Recall:\",metrics.recall_score(y_test, y_pred))\n",
    "print(\"F1:\",metrics.f1_score(y_test, y_pred))"
   ]
  },
  {
   "cell_type": "markdown",
   "metadata": {},
   "source": [
    "##### Classification Model Evaluation"
   ]
  },
  {
   "cell_type": "code",
   "execution_count": null,
   "metadata": {},
   "outputs": [],
   "source": [
    "scores = {'SVM': f1_svm, 'KNN': f1_knn, 'Naive Bayes': f1_nb, 'Decision Tree': f1_dt}\n",
    "model = list(scores.keys())\n",
    "score = list(scores.values())\n",
    "\n",
    "plt.figure(figsize=(7,6))\n",
    "plt.bar(model, score, width=0.5)\n",
    "for x,y in zip(model,score):\n",
    "\n",
    "    label = \"{:.2f}\".format(y)\n",
    "\n",
    "    plt.annotate(label,\n",
    "                 (x,y), \n",
    "                 textcoords=\"offset points\", \n",
    "                 xytext=(0,5),\n",
    "                 ha='center')\n",
    "\n",
    "plt.title(\"F1-score of classification models\")"
   ]
  },
  {
   "cell_type": "markdown",
   "metadata": {},
   "source": [
    "#### KMode Clustering"
   ]
  },
  {
   "cell_type": "code",
   "execution_count": null,
   "metadata": {},
   "outputs": [],
   "source": [
    "df4 = pd.concat([X_res.reset_index(drop=True), y_res], axis=1)"
   ]
  },
  {
   "cell_type": "code",
   "execution_count": null,
   "metadata": {},
   "outputs": [],
   "source": [
    "cost = []\n",
    "for num_clusters in list(range(1,5)):\n",
    "    kmode = KModes(n_clusters=num_clusters, init = \"Cao\", n_init = 1, verbose=1)\n",
    "    kmode.fit_predict(df4)\n",
    "    cost.append(kmode.cost_)"
   ]
  },
  {
   "cell_type": "code",
   "execution_count": null,
   "metadata": {},
   "outputs": [],
   "source": [
    "y = np.array([i for i in range(1,5,1)])\n",
    "plt.plot(y,cost)\n",
    "plt.xlabel('K')\n",
    "plt.ylabel('Cost')"
   ]
  },
  {
   "cell_type": "code",
   "execution_count": null,
   "metadata": {},
   "outputs": [],
   "source": [
    "#Chosen cluster = 2, because it is the elbow\n",
    "km = KModes(n_clusters=2, init = \"Cao\", n_init = 1, verbose=1)\n",
    "clusters = km.fit_predict(df4)"
   ]
  },
  {
   "cell_type": "code",
   "execution_count": null,
   "metadata": {},
   "outputs": [],
   "source": [
    "df4 = df4.apply(lambda x: dictionary[x.name].inverse_transform(x))"
   ]
  },
  {
   "cell_type": "code",
   "execution_count": null,
   "metadata": {},
   "outputs": [],
   "source": [
    "clusters_df = pd.DataFrame(clusters)\n",
    "clusters_df.columns = ['Cluster']\n",
    "df4_new = pd.concat([df4, clusters_df], axis = 1).reset_index()\n",
    "df4_new = df4_new.drop(df4_new.columns[0],axis=1)"
   ]
  },
  {
   "cell_type": "code",
   "execution_count": null,
   "metadata": {},
   "outputs": [],
   "source": [
    "b = sns.countplot(x='Cluster', data = df4_new)\n",
    "\n",
    "for p in b.patches:\n",
    "    b.annotate(\"%.0f\" % p.get_height(), (p.get_x() + \n",
    "    p.get_width() / 2., p.get_height()), \n",
    "    ha='center', va='center', rotation=0, \n",
    "    xytext=(0, 18), textcoords='offset points')"
   ]
  },
  {
   "cell_type": "code",
   "execution_count": null,
   "metadata": {},
   "outputs": [],
   "source": [
    "plt.subplots(figsize = (15,5))\n",
    "sns.countplot(x=df4_new['Monthly_Salary'],order=df4_new['Monthly_Salary'].value_counts().index,hue=df4_new['Cluster'])\n",
    "plt.show()"
   ]
  }
 ],
 "metadata": {
  "kernelspec": {
   "display_name": "Python 3",
   "language": "python",
   "name": "python3"
  },
  "language_info": {
   "codemirror_mode": {
    "name": "ipython",
    "version": 3
   },
   "file_extension": ".py",
   "mimetype": "text/x-python",
   "name": "python",
   "nbconvert_exporter": "python",
   "pygments_lexer": "ipython3",
   "version": "3.6.4"
  }
 },
 "nbformat": 4,
 "nbformat_minor": 4
}
